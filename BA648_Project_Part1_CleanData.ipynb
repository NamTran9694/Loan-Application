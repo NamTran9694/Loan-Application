{
 "cells": [
  {
   "cell_type": "markdown",
   "id": "ff45a00a",
   "metadata": {},
   "source": [
    "# BA 648 Project"
   ]
  },
  {
   "cell_type": "code",
   "execution_count": 1,
   "id": "a4110dff",
   "metadata": {},
   "outputs": [],
   "source": [
    "import numpy as np\n",
    "import pandas as pd\n",
    "import matplotlib.pyplot as plt\n",
    "%matplotlib inline\n",
    "import matplotlib as mpl\n",
    "mpl.rcParams['figure.dpi'] = 400 #high res figures\n",
    "import graphviz #to visualize decision trees"
   ]
  },
  {
   "cell_type": "markdown",
   "id": "3cdffc69",
   "metadata": {},
   "source": [
    "## Loading and Combining two Datasets"
   ]
  },
  {
   "cell_type": "markdown",
   "id": "03783e85",
   "metadata": {},
   "source": [
    "### Loading \"Beachside\" Dataset"
   ]
  },
  {
   "cell_type": "code",
   "execution_count": 2,
   "id": "71600758",
   "metadata": {},
   "outputs": [
    {
     "name": "stderr",
     "output_type": "stream",
     "text": [
      "C:\\Users\\hoain\\anaconda3\\lib\\site-packages\\IPython\\core\\interactiveshell.py:3441: DtypeWarning: Columns (1) have mixed types.Specify dtype option on import or set low_memory=False.\n",
      "  exec(code_obj, self.user_global_ns, self.user_ns)\n"
     ]
    }
   ],
   "source": [
    "Beachside = pd.read_csv('Beachside_Loans.csv')"
   ]
  },
  {
   "cell_type": "code",
   "execution_count": 3,
   "id": "3f13fbfd",
   "metadata": {},
   "outputs": [],
   "source": [
    "Beachside_df = pd.DataFrame(Beachside)"
   ]
  },
  {
   "cell_type": "code",
   "execution_count": 4,
   "id": "b0f2864d",
   "metadata": {},
   "outputs": [
    {
     "data": {
      "text/html": [
       "<div>\n",
       "<style scoped>\n",
       "    .dataframe tbody tr th:only-of-type {\n",
       "        vertical-align: middle;\n",
       "    }\n",
       "\n",
       "    .dataframe tbody tr th {\n",
       "        vertical-align: top;\n",
       "    }\n",
       "\n",
       "    .dataframe thead th {\n",
       "        text-align: right;\n",
       "    }\n",
       "</style>\n",
       "<table border=\"1\" class=\"dataframe\">\n",
       "  <thead>\n",
       "    <tr style=\"text-align: right;\">\n",
       "      <th></th>\n",
       "      <th>MBR_NO</th>\n",
       "      <th>LOAN_NO</th>\n",
       "      <th>LOAN_AMT</th>\n",
       "      <th>int_rate</th>\n",
       "      <th>GRADE</th>\n",
       "      <th>CUST_TITLE</th>\n",
       "      <th>CUST_EMP</th>\n",
       "      <th>annual_inc</th>\n",
       "      <th>LOAN_DT</th>\n",
       "      <th>STAT</th>\n",
       "      <th>...</th>\n",
       "      <th>next_pymnt_d</th>\n",
       "      <th>last_credit_pull_d</th>\n",
       "      <th>mths_since_last_major_derog</th>\n",
       "      <th>tot_coll_amt</th>\n",
       "      <th>TOTAL_COST</th>\n",
       "      <th>total_rev_hi_lim</th>\n",
       "      <th>acc_open_past_24mths</th>\n",
       "      <th>avg_cur_bal</th>\n",
       "      <th>bc_util</th>\n",
       "      <th>chargeoff_within_12_mths</th>\n",
       "    </tr>\n",
       "  </thead>\n",
       "  <tbody>\n",
       "    <tr>\n",
       "      <th>0</th>\n",
       "      <td>828865</td>\n",
       "      <td>68355089</td>\n",
       "      <td>24700.0</td>\n",
       "      <td>11.99</td>\n",
       "      <td>C</td>\n",
       "      <td>Engineer</td>\n",
       "      <td>10+ years</td>\n",
       "      <td>65000.0</td>\n",
       "      <td>Dec-15</td>\n",
       "      <td>Fully Paid</td>\n",
       "      <td>...</td>\n",
       "      <td>NaN</td>\n",
       "      <td>Mar-19</td>\n",
       "      <td>NaN</td>\n",
       "      <td>0.0</td>\n",
       "      <td>204396.0</td>\n",
       "      <td>111800.0</td>\n",
       "      <td>4.0</td>\n",
       "      <td>9733.0</td>\n",
       "      <td>27.1</td>\n",
       "      <td>0.0</td>\n",
       "    </tr>\n",
       "    <tr>\n",
       "      <th>1</th>\n",
       "      <td>96781</td>\n",
       "      <td>68426831</td>\n",
       "      <td>11950.0</td>\n",
       "      <td>13.44</td>\n",
       "      <td>C</td>\n",
       "      <td>Veterinary Tecnician</td>\n",
       "      <td>4 years</td>\n",
       "      <td>34000.0</td>\n",
       "      <td>Dec-15</td>\n",
       "      <td>Fully Paid</td>\n",
       "      <td>...</td>\n",
       "      <td>NaN</td>\n",
       "      <td>May-17</td>\n",
       "      <td>NaN</td>\n",
       "      <td>0.0</td>\n",
       "      <td>12798.0</td>\n",
       "      <td>12900.0</td>\n",
       "      <td>0.0</td>\n",
       "      <td>2560.0</td>\n",
       "      <td>91.0</td>\n",
       "      <td>0.0</td>\n",
       "    </tr>\n",
       "    <tr>\n",
       "      <th>2</th>\n",
       "      <td>118711</td>\n",
       "      <td>67275481</td>\n",
       "      <td>20000.0</td>\n",
       "      <td>8.49</td>\n",
       "      <td>B</td>\n",
       "      <td>road driver</td>\n",
       "      <td>10+ years</td>\n",
       "      <td>85000.0</td>\n",
       "      <td>Dec-15</td>\n",
       "      <td>Fully Paid</td>\n",
       "      <td>...</td>\n",
       "      <td>NaN</td>\n",
       "      <td>Mar-19</td>\n",
       "      <td>3.0</td>\n",
       "      <td>0.0</td>\n",
       "      <td>141601.0</td>\n",
       "      <td>14500.0</td>\n",
       "      <td>4.0</td>\n",
       "      <td>17700.0</td>\n",
       "      <td>5.7</td>\n",
       "      <td>0.0</td>\n",
       "    </tr>\n",
       "    <tr>\n",
       "      <th>3</th>\n",
       "      <td>548993</td>\n",
       "      <td>68616873</td>\n",
       "      <td>8000.0</td>\n",
       "      <td>11.48</td>\n",
       "      <td>B</td>\n",
       "      <td>Vendor liaison</td>\n",
       "      <td>10+ years</td>\n",
       "      <td>42000.0</td>\n",
       "      <td>Dec-15</td>\n",
       "      <td>Fully Paid</td>\n",
       "      <td>...</td>\n",
       "      <td>NaN</td>\n",
       "      <td>Nov-18</td>\n",
       "      <td>75.0</td>\n",
       "      <td>0.0</td>\n",
       "      <td>199696.0</td>\n",
       "      <td>18000.0</td>\n",
       "      <td>5.0</td>\n",
       "      <td>28528.0</td>\n",
       "      <td>41.4</td>\n",
       "      <td>0.0</td>\n",
       "    </tr>\n",
       "    <tr>\n",
       "      <th>4</th>\n",
       "      <td>666541</td>\n",
       "      <td>68356421</td>\n",
       "      <td>22400.0</td>\n",
       "      <td>12.88</td>\n",
       "      <td>C</td>\n",
       "      <td>Executive Director</td>\n",
       "      <td>6 years</td>\n",
       "      <td>95000.0</td>\n",
       "      <td>Dec-15</td>\n",
       "      <td>Current</td>\n",
       "      <td>...</td>\n",
       "      <td>Apr-19</td>\n",
       "      <td>Mar-19</td>\n",
       "      <td>54.0</td>\n",
       "      <td>0.0</td>\n",
       "      <td>376218.0</td>\n",
       "      <td>39800.0</td>\n",
       "      <td>9.0</td>\n",
       "      <td>23514.0</td>\n",
       "      <td>39.9</td>\n",
       "      <td>0.0</td>\n",
       "    </tr>\n",
       "  </tbody>\n",
       "</table>\n",
       "<p>5 rows × 30 columns</p>\n",
       "</div>"
      ],
      "text/plain": [
       "   MBR_NO   LOAN_NO  LOAN_AMT  int_rate GRADE            CUST_TITLE  \\\n",
       "0  828865  68355089   24700.0     11.99     C              Engineer   \n",
       "1   96781  68426831   11950.0     13.44     C  Veterinary Tecnician   \n",
       "2  118711  67275481   20000.0      8.49     B           road driver   \n",
       "3  548993  68616873    8000.0     11.48     B        Vendor liaison   \n",
       "4  666541  68356421   22400.0     12.88     C    Executive Director   \n",
       "\n",
       "    CUST_EMP  annual_inc LOAN_DT        STAT  ... next_pymnt_d  \\\n",
       "0  10+ years     65000.0  Dec-15  Fully Paid  ...          NaN   \n",
       "1    4 years     34000.0  Dec-15  Fully Paid  ...          NaN   \n",
       "2  10+ years     85000.0  Dec-15  Fully Paid  ...          NaN   \n",
       "3  10+ years     42000.0  Dec-15  Fully Paid  ...          NaN   \n",
       "4    6 years     95000.0  Dec-15     Current  ...       Apr-19   \n",
       "\n",
       "  last_credit_pull_d mths_since_last_major_derog  tot_coll_amt TOTAL_COST  \\\n",
       "0             Mar-19                         NaN           0.0   204396.0   \n",
       "1             May-17                         NaN           0.0    12798.0   \n",
       "2             Mar-19                         3.0           0.0   141601.0   \n",
       "3             Nov-18                        75.0           0.0   199696.0   \n",
       "4             Mar-19                        54.0           0.0   376218.0   \n",
       "\n",
       "   total_rev_hi_lim  acc_open_past_24mths  avg_cur_bal bc_util  \\\n",
       "0          111800.0                   4.0       9733.0    27.1   \n",
       "1           12900.0                   0.0       2560.0    91.0   \n",
       "2           14500.0                   4.0      17700.0     5.7   \n",
       "3           18000.0                   5.0      28528.0    41.4   \n",
       "4           39800.0                   9.0      23514.0    39.9   \n",
       "\n",
       "   chargeoff_within_12_mths  \n",
       "0                       0.0  \n",
       "1                       0.0  \n",
       "2                       0.0  \n",
       "3                       0.0  \n",
       "4                       0.0  \n",
       "\n",
       "[5 rows x 30 columns]"
      ]
     },
     "execution_count": 4,
     "metadata": {},
     "output_type": "execute_result"
    }
   ],
   "source": [
    "Beachside_df.head()"
   ]
  },
  {
   "cell_type": "code",
   "execution_count": 5,
   "id": "7f6e24d4",
   "metadata": {},
   "outputs": [
    {
     "data": {
      "text/plain": [
       "(393215, 30)"
      ]
     },
     "execution_count": 5,
     "metadata": {},
     "output_type": "execute_result"
    }
   ],
   "source": [
    "Beachside_df.shape"
   ]
  },
  {
   "cell_type": "code",
   "execution_count": 6,
   "id": "ca5e4a97",
   "metadata": {},
   "outputs": [
    {
     "data": {
      "text/plain": [
       "Index(['MBR_NO', 'LOAN_NO', 'LOAN_AMT', 'int_rate', 'GRADE', 'CUST_TITLE',\n",
       "       'CUST_EMP', 'annual_inc', 'LOAN_DT', 'STAT', 'title', 'CUST_ZIP',\n",
       "       'CUST_ST', 'dti', 'MBR_DT', 'FICO', 'mths_since_last_delinq',\n",
       "       'total_pymnt', 'last_pymnt_d', 'last_pymnt_amnt', 'next_pymnt_d',\n",
       "       'last_credit_pull_d', 'mths_since_last_major_derog', 'tot_coll_amt',\n",
       "       'TOTAL_COST', 'total_rev_hi_lim', 'acc_open_past_24mths', 'avg_cur_bal',\n",
       "       'bc_util', 'chargeoff_within_12_mths'],\n",
       "      dtype='object')"
      ]
     },
     "execution_count": 6,
     "metadata": {},
     "output_type": "execute_result"
    }
   ],
   "source": [
    "Beachside_df.columns"
   ]
  },
  {
   "cell_type": "markdown",
   "id": "cb15ca44",
   "metadata": {},
   "source": [
    "Removing unnecessary varialbes as the project requests. \"Member Number, Member Date, Loan Number, Loan Date, Loan Stat, Title, Time Employed, State, Zip, Loan Amount, Down, CredRisk, Source, Credit Score, Grade, Response\" are variables remained."
   ]
  },
  {
   "cell_type": "code",
   "execution_count": 7,
   "id": "07994442",
   "metadata": {},
   "outputs": [],
   "source": [
    "col_names = ['Mem_Num','Mem_Date','Loan_Num','Loan_Date','Loan_Stat', 'Loan_Amt', \n",
    "             'Title' , 'Time_Employed', 'State', 'Zip','Cred_Score' , 'Grade']"
   ]
  },
  {
   "cell_type": "code",
   "execution_count": 8,
   "id": "25adeba6",
   "metadata": {},
   "outputs": [],
   "source": [
    "Beachside_df_val_select = pd.DataFrame(data= Beachside_df.loc[:,['MBR_NO','MBR_DT','LOAN_NO','LOAN_DT','STAT','LOAN_AMT','CUST_TITLE','CUST_EMP',\n",
    "                              'CUST_ST','CUST_ZIP','FICO','GRADE']])"
   ]
  },
  {
   "cell_type": "code",
   "execution_count": 9,
   "id": "90b45e81",
   "metadata": {},
   "outputs": [],
   "source": [
    "Beachside_df_1 =Beachside_df_val_select.set_axis(col_names, axis=1)"
   ]
  },
  {
   "cell_type": "code",
   "execution_count": 10,
   "id": "992a10ae",
   "metadata": {},
   "outputs": [
    {
     "data": {
      "text/plain": [
       "(393215, 12)"
      ]
     },
     "execution_count": 10,
     "metadata": {},
     "output_type": "execute_result"
    }
   ],
   "source": [
    "Beachside_df_1.shape"
   ]
  },
  {
   "cell_type": "code",
   "execution_count": 11,
   "id": "181e3f63",
   "metadata": {},
   "outputs": [
    {
     "data": {
      "text/html": [
       "<div>\n",
       "<style scoped>\n",
       "    .dataframe tbody tr th:only-of-type {\n",
       "        vertical-align: middle;\n",
       "    }\n",
       "\n",
       "    .dataframe tbody tr th {\n",
       "        vertical-align: top;\n",
       "    }\n",
       "\n",
       "    .dataframe thead th {\n",
       "        text-align: right;\n",
       "    }\n",
       "</style>\n",
       "<table border=\"1\" class=\"dataframe\">\n",
       "  <thead>\n",
       "    <tr style=\"text-align: right;\">\n",
       "      <th></th>\n",
       "      <th>Mem_Num</th>\n",
       "      <th>Mem_Date</th>\n",
       "      <th>Loan_Num</th>\n",
       "      <th>Loan_Date</th>\n",
       "      <th>Loan_Stat</th>\n",
       "      <th>Loan_Amt</th>\n",
       "      <th>Title</th>\n",
       "      <th>Time_Employed</th>\n",
       "      <th>State</th>\n",
       "      <th>Zip</th>\n",
       "      <th>Cred_Score</th>\n",
       "      <th>Grade</th>\n",
       "    </tr>\n",
       "  </thead>\n",
       "  <tbody>\n",
       "    <tr>\n",
       "      <th>0</th>\n",
       "      <td>828865</td>\n",
       "      <td>Dec-99</td>\n",
       "      <td>68355089</td>\n",
       "      <td>Dec-15</td>\n",
       "      <td>Fully Paid</td>\n",
       "      <td>24700.0</td>\n",
       "      <td>Engineer</td>\n",
       "      <td>10+ years</td>\n",
       "      <td>SD</td>\n",
       "      <td>577xx</td>\n",
       "      <td>719.0</td>\n",
       "      <td>C</td>\n",
       "    </tr>\n",
       "    <tr>\n",
       "      <th>1</th>\n",
       "      <td>96781</td>\n",
       "      <td>Oct-87</td>\n",
       "      <td>68426831</td>\n",
       "      <td>Dec-15</td>\n",
       "      <td>Fully Paid</td>\n",
       "      <td>11950.0</td>\n",
       "      <td>Veterinary Tecnician</td>\n",
       "      <td>4 years</td>\n",
       "      <td>GA</td>\n",
       "      <td>300xx</td>\n",
       "      <td>694.0</td>\n",
       "      <td>C</td>\n",
       "    </tr>\n",
       "    <tr>\n",
       "      <th>2</th>\n",
       "      <td>118711</td>\n",
       "      <td>Feb-99</td>\n",
       "      <td>67275481</td>\n",
       "      <td>Dec-15</td>\n",
       "      <td>Fully Paid</td>\n",
       "      <td>20000.0</td>\n",
       "      <td>road driver</td>\n",
       "      <td>10+ years</td>\n",
       "      <td>SC</td>\n",
       "      <td>293xx</td>\n",
       "      <td>709.0</td>\n",
       "      <td>B</td>\n",
       "    </tr>\n",
       "    <tr>\n",
       "      <th>3</th>\n",
       "      <td>548993</td>\n",
       "      <td>Nov-94</td>\n",
       "      <td>68616873</td>\n",
       "      <td>Dec-15</td>\n",
       "      <td>Fully Paid</td>\n",
       "      <td>8000.0</td>\n",
       "      <td>Vendor liaison</td>\n",
       "      <td>10+ years</td>\n",
       "      <td>RI</td>\n",
       "      <td>029xx</td>\n",
       "      <td>704.0</td>\n",
       "      <td>B</td>\n",
       "    </tr>\n",
       "    <tr>\n",
       "      <th>4</th>\n",
       "      <td>666541</td>\n",
       "      <td>Apr-95</td>\n",
       "      <td>68356421</td>\n",
       "      <td>Dec-15</td>\n",
       "      <td>Current</td>\n",
       "      <td>22400.0</td>\n",
       "      <td>Executive Director</td>\n",
       "      <td>6 years</td>\n",
       "      <td>SC</td>\n",
       "      <td>290xx</td>\n",
       "      <td>714.0</td>\n",
       "      <td>C</td>\n",
       "    </tr>\n",
       "  </tbody>\n",
       "</table>\n",
       "</div>"
      ],
      "text/plain": [
       "   Mem_Num Mem_Date  Loan_Num Loan_Date   Loan_Stat  Loan_Amt  \\\n",
       "0   828865   Dec-99  68355089    Dec-15  Fully Paid   24700.0   \n",
       "1    96781   Oct-87  68426831    Dec-15  Fully Paid   11950.0   \n",
       "2   118711   Feb-99  67275481    Dec-15  Fully Paid   20000.0   \n",
       "3   548993   Nov-94  68616873    Dec-15  Fully Paid    8000.0   \n",
       "4   666541   Apr-95  68356421    Dec-15     Current   22400.0   \n",
       "\n",
       "                  Title Time_Employed State    Zip  Cred_Score Grade  \n",
       "0              Engineer     10+ years    SD  577xx       719.0     C  \n",
       "1  Veterinary Tecnician       4 years    GA  300xx       694.0     C  \n",
       "2           road driver     10+ years    SC  293xx       709.0     B  \n",
       "3        Vendor liaison     10+ years    RI  029xx       704.0     B  \n",
       "4    Executive Director       6 years    SC  290xx       714.0     C  "
      ]
     },
     "execution_count": 11,
     "metadata": {},
     "output_type": "execute_result"
    }
   ],
   "source": [
    "Beachside_df_1.head()"
   ]
  },
  {
   "cell_type": "code",
   "execution_count": 12,
   "id": "10e567b9",
   "metadata": {},
   "outputs": [],
   "source": [
    "Beachside_df_1['Response'] = None"
   ]
  },
  {
   "cell_type": "code",
   "execution_count": 13,
   "id": "e92dac80",
   "metadata": {},
   "outputs": [
    {
     "data": {
      "text/html": [
       "<div>\n",
       "<style scoped>\n",
       "    .dataframe tbody tr th:only-of-type {\n",
       "        vertical-align: middle;\n",
       "    }\n",
       "\n",
       "    .dataframe tbody tr th {\n",
       "        vertical-align: top;\n",
       "    }\n",
       "\n",
       "    .dataframe thead th {\n",
       "        text-align: right;\n",
       "    }\n",
       "</style>\n",
       "<table border=\"1\" class=\"dataframe\">\n",
       "  <thead>\n",
       "    <tr style=\"text-align: right;\">\n",
       "      <th></th>\n",
       "      <th>Mem_Num</th>\n",
       "      <th>Mem_Date</th>\n",
       "      <th>Loan_Num</th>\n",
       "      <th>Loan_Date</th>\n",
       "      <th>Loan_Stat</th>\n",
       "      <th>Loan_Amt</th>\n",
       "      <th>Title</th>\n",
       "      <th>Time_Employed</th>\n",
       "      <th>State</th>\n",
       "      <th>Zip</th>\n",
       "      <th>Cred_Score</th>\n",
       "      <th>Grade</th>\n",
       "      <th>Response</th>\n",
       "    </tr>\n",
       "  </thead>\n",
       "  <tbody>\n",
       "    <tr>\n",
       "      <th>0</th>\n",
       "      <td>828865</td>\n",
       "      <td>Dec-99</td>\n",
       "      <td>68355089</td>\n",
       "      <td>Dec-15</td>\n",
       "      <td>Fully Paid</td>\n",
       "      <td>24700.0</td>\n",
       "      <td>Engineer</td>\n",
       "      <td>10+ years</td>\n",
       "      <td>SD</td>\n",
       "      <td>577xx</td>\n",
       "      <td>719.0</td>\n",
       "      <td>C</td>\n",
       "      <td>None</td>\n",
       "    </tr>\n",
       "    <tr>\n",
       "      <th>1</th>\n",
       "      <td>96781</td>\n",
       "      <td>Oct-87</td>\n",
       "      <td>68426831</td>\n",
       "      <td>Dec-15</td>\n",
       "      <td>Fully Paid</td>\n",
       "      <td>11950.0</td>\n",
       "      <td>Veterinary Tecnician</td>\n",
       "      <td>4 years</td>\n",
       "      <td>GA</td>\n",
       "      <td>300xx</td>\n",
       "      <td>694.0</td>\n",
       "      <td>C</td>\n",
       "      <td>None</td>\n",
       "    </tr>\n",
       "    <tr>\n",
       "      <th>2</th>\n",
       "      <td>118711</td>\n",
       "      <td>Feb-99</td>\n",
       "      <td>67275481</td>\n",
       "      <td>Dec-15</td>\n",
       "      <td>Fully Paid</td>\n",
       "      <td>20000.0</td>\n",
       "      <td>road driver</td>\n",
       "      <td>10+ years</td>\n",
       "      <td>SC</td>\n",
       "      <td>293xx</td>\n",
       "      <td>709.0</td>\n",
       "      <td>B</td>\n",
       "      <td>None</td>\n",
       "    </tr>\n",
       "    <tr>\n",
       "      <th>3</th>\n",
       "      <td>548993</td>\n",
       "      <td>Nov-94</td>\n",
       "      <td>68616873</td>\n",
       "      <td>Dec-15</td>\n",
       "      <td>Fully Paid</td>\n",
       "      <td>8000.0</td>\n",
       "      <td>Vendor liaison</td>\n",
       "      <td>10+ years</td>\n",
       "      <td>RI</td>\n",
       "      <td>029xx</td>\n",
       "      <td>704.0</td>\n",
       "      <td>B</td>\n",
       "      <td>None</td>\n",
       "    </tr>\n",
       "    <tr>\n",
       "      <th>4</th>\n",
       "      <td>666541</td>\n",
       "      <td>Apr-95</td>\n",
       "      <td>68356421</td>\n",
       "      <td>Dec-15</td>\n",
       "      <td>Current</td>\n",
       "      <td>22400.0</td>\n",
       "      <td>Executive Director</td>\n",
       "      <td>6 years</td>\n",
       "      <td>SC</td>\n",
       "      <td>290xx</td>\n",
       "      <td>714.0</td>\n",
       "      <td>C</td>\n",
       "      <td>None</td>\n",
       "    </tr>\n",
       "  </tbody>\n",
       "</table>\n",
       "</div>"
      ],
      "text/plain": [
       "   Mem_Num Mem_Date  Loan_Num Loan_Date   Loan_Stat  Loan_Amt  \\\n",
       "0   828865   Dec-99  68355089    Dec-15  Fully Paid   24700.0   \n",
       "1    96781   Oct-87  68426831    Dec-15  Fully Paid   11950.0   \n",
       "2   118711   Feb-99  67275481    Dec-15  Fully Paid   20000.0   \n",
       "3   548993   Nov-94  68616873    Dec-15  Fully Paid    8000.0   \n",
       "4   666541   Apr-95  68356421    Dec-15     Current   22400.0   \n",
       "\n",
       "                  Title Time_Employed State    Zip  Cred_Score Grade Response  \n",
       "0              Engineer     10+ years    SD  577xx       719.0     C     None  \n",
       "1  Veterinary Tecnician       4 years    GA  300xx       694.0     C     None  \n",
       "2           road driver     10+ years    SC  293xx       709.0     B     None  \n",
       "3        Vendor liaison     10+ years    RI  029xx       704.0     B     None  \n",
       "4    Executive Director       6 years    SC  290xx       714.0     C     None  "
      ]
     },
     "execution_count": 13,
     "metadata": {},
     "output_type": "execute_result"
    }
   ],
   "source": [
    "Beachside_df_1.head()"
   ]
  },
  {
   "cell_type": "markdown",
   "id": "44e95c74",
   "metadata": {},
   "source": [
    "### Loading \"WilsonandSons\" Dataset"
   ]
  },
  {
   "cell_type": "code",
   "execution_count": 14,
   "id": "fa8f7289",
   "metadata": {},
   "outputs": [
    {
     "name": "stderr",
     "output_type": "stream",
     "text": [
      "C:\\Users\\hoain\\anaconda3\\lib\\site-packages\\IPython\\core\\interactiveshell.py:3441: DtypeWarning: Columns (1) have mixed types.Specify dtype option on import or set low_memory=False.\n",
      "  exec(code_obj, self.user_global_ns, self.user_ns)\n"
     ]
    }
   ],
   "source": [
    "Wilson_df = pd.read_csv('WilsonandSons.csv')"
   ]
  },
  {
   "cell_type": "code",
   "execution_count": 15,
   "id": "466925fd",
   "metadata": {},
   "outputs": [
    {
     "data": {
      "text/plain": [
       "(295000, 22)"
      ]
     },
     "execution_count": 15,
     "metadata": {},
     "output_type": "execute_result"
    }
   ],
   "source": [
    "Wilson_df.shape"
   ]
  },
  {
   "cell_type": "code",
   "execution_count": 16,
   "id": "2b92f006",
   "metadata": {},
   "outputs": [
    {
     "data": {
      "text/html": [
       "<div>\n",
       "<style scoped>\n",
       "    .dataframe tbody tr th:only-of-type {\n",
       "        vertical-align: middle;\n",
       "    }\n",
       "\n",
       "    .dataframe tbody tr th {\n",
       "        vertical-align: top;\n",
       "    }\n",
       "\n",
       "    .dataframe thead th {\n",
       "        text-align: right;\n",
       "    }\n",
       "</style>\n",
       "<table border=\"1\" class=\"dataframe\">\n",
       "  <thead>\n",
       "    <tr style=\"text-align: right;\">\n",
       "      <th></th>\n",
       "      <th>Member Number</th>\n",
       "      <th>Loan Number</th>\n",
       "      <th>Net Loan Amount</th>\n",
       "      <th>Grade</th>\n",
       "      <th>Sub Grade</th>\n",
       "      <th>Customer Job</th>\n",
       "      <th>Length of Employment</th>\n",
       "      <th>Home Ownership</th>\n",
       "      <th>Income</th>\n",
       "      <th>Loan Date</th>\n",
       "      <th>...</th>\n",
       "      <th>Customer Zip</th>\n",
       "      <th>Customer State</th>\n",
       "      <th>Member Date</th>\n",
       "      <th>High FICO</th>\n",
       "      <th>Delinquent</th>\n",
       "      <th>Total Payments</th>\n",
       "      <th>Last Date Paid</th>\n",
       "      <th>Last Payment</th>\n",
       "      <th>Last Credit Check</th>\n",
       "      <th>Average Balance</th>\n",
       "    </tr>\n",
       "  </thead>\n",
       "  <tbody>\n",
       "    <tr>\n",
       "      <th>0</th>\n",
       "      <td>1592618</td>\n",
       "      <td>68407277</td>\n",
       "      <td>3600.0</td>\n",
       "      <td>C</td>\n",
       "      <td>C4</td>\n",
       "      <td>leadman</td>\n",
       "      <td>10+ years</td>\n",
       "      <td>MORTGAGE</td>\n",
       "      <td>55000.0</td>\n",
       "      <td>Dec-15</td>\n",
       "      <td>...</td>\n",
       "      <td>190xx</td>\n",
       "      <td>PA</td>\n",
       "      <td>Aug-03</td>\n",
       "      <td>679.0</td>\n",
       "      <td>30.0</td>\n",
       "      <td>4421.723917</td>\n",
       "      <td>Jan-19</td>\n",
       "      <td>122.67</td>\n",
       "      <td>Mar-19</td>\n",
       "      <td>20701.0</td>\n",
       "    </tr>\n",
       "    <tr>\n",
       "      <th>1</th>\n",
       "      <td>1945270</td>\n",
       "      <td>68341763</td>\n",
       "      <td>20000.0</td>\n",
       "      <td>B</td>\n",
       "      <td>B4</td>\n",
       "      <td>truck driver</td>\n",
       "      <td>10+ years</td>\n",
       "      <td>MORTGAGE</td>\n",
       "      <td>63000.0</td>\n",
       "      <td>Dec-15</td>\n",
       "      <td>...</td>\n",
       "      <td>605xx</td>\n",
       "      <td>IL</td>\n",
       "      <td>Aug-00</td>\n",
       "      <td>699.0</td>\n",
       "      <td>NaN</td>\n",
       "      <td>22705.924290</td>\n",
       "      <td>Jun-17</td>\n",
       "      <td>15813.30</td>\n",
       "      <td>Mar-19</td>\n",
       "      <td>31617.0</td>\n",
       "    </tr>\n",
       "    <tr>\n",
       "      <th>2</th>\n",
       "      <td>672413</td>\n",
       "      <td>66310712</td>\n",
       "      <td>35000.0</td>\n",
       "      <td>C</td>\n",
       "      <td>C5</td>\n",
       "      <td>Information Systems Officer</td>\n",
       "      <td>10+ years</td>\n",
       "      <td>MORTGAGE</td>\n",
       "      <td>110000.0</td>\n",
       "      <td>Dec-15</td>\n",
       "      <td>...</td>\n",
       "      <td>076xx</td>\n",
       "      <td>NJ</td>\n",
       "      <td>Sep-08</td>\n",
       "      <td>789.0</td>\n",
       "      <td>NaN</td>\n",
       "      <td>31464.010000</td>\n",
       "      <td>Feb-19</td>\n",
       "      <td>829.90</td>\n",
       "      <td>Mar-19</td>\n",
       "      <td>23192.0</td>\n",
       "    </tr>\n",
       "    <tr>\n",
       "      <th>3</th>\n",
       "      <td>1263724</td>\n",
       "      <td>68356421</td>\n",
       "      <td>22400.0</td>\n",
       "      <td>C</td>\n",
       "      <td>C2</td>\n",
       "      <td>Executive Director</td>\n",
       "      <td>6 years</td>\n",
       "      <td>MORTGAGE</td>\n",
       "      <td>95000.0</td>\n",
       "      <td>Dec-15</td>\n",
       "      <td>...</td>\n",
       "      <td>290xx</td>\n",
       "      <td>SC</td>\n",
       "      <td>Apr-95</td>\n",
       "      <td>714.0</td>\n",
       "      <td>54.0</td>\n",
       "      <td>19275.330000</td>\n",
       "      <td>Feb-19</td>\n",
       "      <td>508.30</td>\n",
       "      <td>Mar-19</td>\n",
       "      <td>23514.0</td>\n",
       "    </tr>\n",
       "    <tr>\n",
       "      <th>4</th>\n",
       "      <td>661182</td>\n",
       "      <td>68566886</td>\n",
       "      <td>29900.0</td>\n",
       "      <td>C</td>\n",
       "      <td>C2</td>\n",
       "      <td>Corporate Insurance</td>\n",
       "      <td>10+ years</td>\n",
       "      <td>MORTGAGE</td>\n",
       "      <td>65000.0</td>\n",
       "      <td>Dec-15</td>\n",
       "      <td>...</td>\n",
       "      <td>219xx</td>\n",
       "      <td>MD</td>\n",
       "      <td>May-04</td>\n",
       "      <td>719.0</td>\n",
       "      <td>NaN</td>\n",
       "      <td>34033.214180</td>\n",
       "      <td>Mar-17</td>\n",
       "      <td>25234.24</td>\n",
       "      <td>Jan-18</td>\n",
       "      <td>15732.0</td>\n",
       "    </tr>\n",
       "  </tbody>\n",
       "</table>\n",
       "<p>5 rows × 22 columns</p>\n",
       "</div>"
      ],
      "text/plain": [
       "   Member Number Loan Number  Net Loan Amount Grade Sub Grade  \\\n",
       "0        1592618    68407277           3600.0     C        C4   \n",
       "1        1945270    68341763          20000.0     B        B4   \n",
       "2         672413    66310712          35000.0     C        C5   \n",
       "3        1263724    68356421          22400.0     C        C2   \n",
       "4         661182    68566886          29900.0     C        C2   \n",
       "\n",
       "                  Customer Job Length of Employment Home Ownership    Income  \\\n",
       "0                      leadman            10+ years       MORTGAGE   55000.0   \n",
       "1                 truck driver            10+ years       MORTGAGE   63000.0   \n",
       "2  Information Systems Officer            10+ years       MORTGAGE  110000.0   \n",
       "3           Executive Director              6 years       MORTGAGE   95000.0   \n",
       "4          Corporate Insurance            10+ years       MORTGAGE   65000.0   \n",
       "\n",
       "  Loan Date  ... Customer Zip Customer State Member Date High FICO Delinquent  \\\n",
       "0    Dec-15  ...        190xx             PA      Aug-03     679.0       30.0   \n",
       "1    Dec-15  ...        605xx             IL      Aug-00     699.0        NaN   \n",
       "2    Dec-15  ...        076xx             NJ      Sep-08     789.0        NaN   \n",
       "3    Dec-15  ...        290xx             SC      Apr-95     714.0       54.0   \n",
       "4    Dec-15  ...        219xx             MD      May-04     719.0        NaN   \n",
       "\n",
       "   Total Payments  Last Date Paid  Last Payment Last Credit Check  \\\n",
       "0     4421.723917          Jan-19        122.67            Mar-19   \n",
       "1    22705.924290          Jun-17      15813.30            Mar-19   \n",
       "2    31464.010000          Feb-19        829.90            Mar-19   \n",
       "3    19275.330000          Feb-19        508.30            Mar-19   \n",
       "4    34033.214180          Mar-17      25234.24            Jan-18   \n",
       "\n",
       "   Average Balance  \n",
       "0          20701.0  \n",
       "1          31617.0  \n",
       "2          23192.0  \n",
       "3          23514.0  \n",
       "4          15732.0  \n",
       "\n",
       "[5 rows x 22 columns]"
      ]
     },
     "execution_count": 16,
     "metadata": {},
     "output_type": "execute_result"
    }
   ],
   "source": [
    "Wilson_df.head()"
   ]
  },
  {
   "cell_type": "code",
   "execution_count": 17,
   "id": "0d0f2996",
   "metadata": {},
   "outputs": [
    {
     "data": {
      "text/plain": [
       "Index(['Member Number', 'Loan Number', 'Net Loan Amount', 'Grade', 'Sub Grade',\n",
       "       'Customer Job', 'Length of Employment', 'Home Ownership', 'Income',\n",
       "       'Loan Date', 'Loan Status', 'Type', 'Customer Zip', 'Customer State',\n",
       "       'Member Date', 'High FICO', 'Delinquent', 'Total Payments',\n",
       "       'Last Date Paid', 'Last Payment', 'Last Credit Check',\n",
       "       'Average Balance'],\n",
       "      dtype='object')"
      ]
     },
     "execution_count": 17,
     "metadata": {},
     "output_type": "execute_result"
    }
   ],
   "source": [
    "Wilson_df.columns"
   ]
  },
  {
   "cell_type": "code",
   "execution_count": 18,
   "id": "a187366d",
   "metadata": {},
   "outputs": [
    {
     "data": {
      "text/plain": [
       "295000"
      ]
     },
     "execution_count": 18,
     "metadata": {},
     "output_type": "execute_result"
    }
   ],
   "source": [
    "Wilson_df['Loan Number'].nunique()"
   ]
  },
  {
   "cell_type": "code",
   "execution_count": 19,
   "id": "740874d9",
   "metadata": {},
   "outputs": [],
   "source": [
    "Wilson_df_val_select = pd.DataFrame(Wilson_df.loc[:,['Member Number','Member Date','Loan Number','Loan Date',\n",
    "                                                     'Loan Status','Net Loan Amount','Customer Job',\n",
    "                                                     'Length of Employment','Customer State','Customer Zip',\n",
    "                                                     'High FICO','Grade']])"
   ]
  },
  {
   "cell_type": "code",
   "execution_count": 20,
   "id": "533f76a5",
   "metadata": {},
   "outputs": [
    {
     "data": {
      "text/html": [
       "<div>\n",
       "<style scoped>\n",
       "    .dataframe tbody tr th:only-of-type {\n",
       "        vertical-align: middle;\n",
       "    }\n",
       "\n",
       "    .dataframe tbody tr th {\n",
       "        vertical-align: top;\n",
       "    }\n",
       "\n",
       "    .dataframe thead th {\n",
       "        text-align: right;\n",
       "    }\n",
       "</style>\n",
       "<table border=\"1\" class=\"dataframe\">\n",
       "  <thead>\n",
       "    <tr style=\"text-align: right;\">\n",
       "      <th></th>\n",
       "      <th>Member Number</th>\n",
       "      <th>Member Date</th>\n",
       "      <th>Loan Number</th>\n",
       "      <th>Loan Date</th>\n",
       "      <th>Loan Status</th>\n",
       "      <th>Net Loan Amount</th>\n",
       "      <th>Customer Job</th>\n",
       "      <th>Length of Employment</th>\n",
       "      <th>Customer State</th>\n",
       "      <th>Customer Zip</th>\n",
       "      <th>High FICO</th>\n",
       "      <th>Grade</th>\n",
       "    </tr>\n",
       "  </thead>\n",
       "  <tbody>\n",
       "    <tr>\n",
       "      <th>0</th>\n",
       "      <td>1592618</td>\n",
       "      <td>Aug-03</td>\n",
       "      <td>68407277</td>\n",
       "      <td>Dec-15</td>\n",
       "      <td>Fully Paid</td>\n",
       "      <td>3600.0</td>\n",
       "      <td>leadman</td>\n",
       "      <td>10+ years</td>\n",
       "      <td>PA</td>\n",
       "      <td>190xx</td>\n",
       "      <td>679.0</td>\n",
       "      <td>C</td>\n",
       "    </tr>\n",
       "    <tr>\n",
       "      <th>1</th>\n",
       "      <td>1945270</td>\n",
       "      <td>Aug-00</td>\n",
       "      <td>68341763</td>\n",
       "      <td>Dec-15</td>\n",
       "      <td>Fully Paid</td>\n",
       "      <td>20000.0</td>\n",
       "      <td>truck driver</td>\n",
       "      <td>10+ years</td>\n",
       "      <td>IL</td>\n",
       "      <td>605xx</td>\n",
       "      <td>699.0</td>\n",
       "      <td>B</td>\n",
       "    </tr>\n",
       "    <tr>\n",
       "      <th>2</th>\n",
       "      <td>672413</td>\n",
       "      <td>Sep-08</td>\n",
       "      <td>66310712</td>\n",
       "      <td>Dec-15</td>\n",
       "      <td>Current</td>\n",
       "      <td>35000.0</td>\n",
       "      <td>Information Systems Officer</td>\n",
       "      <td>10+ years</td>\n",
       "      <td>NJ</td>\n",
       "      <td>076xx</td>\n",
       "      <td>789.0</td>\n",
       "      <td>C</td>\n",
       "    </tr>\n",
       "    <tr>\n",
       "      <th>3</th>\n",
       "      <td>1263724</td>\n",
       "      <td>Apr-95</td>\n",
       "      <td>68356421</td>\n",
       "      <td>Dec-15</td>\n",
       "      <td>Current</td>\n",
       "      <td>22400.0</td>\n",
       "      <td>Executive Director</td>\n",
       "      <td>6 years</td>\n",
       "      <td>SC</td>\n",
       "      <td>290xx</td>\n",
       "      <td>714.0</td>\n",
       "      <td>C</td>\n",
       "    </tr>\n",
       "    <tr>\n",
       "      <th>4</th>\n",
       "      <td>661182</td>\n",
       "      <td>May-04</td>\n",
       "      <td>68566886</td>\n",
       "      <td>Dec-15</td>\n",
       "      <td>Fully Paid</td>\n",
       "      <td>29900.0</td>\n",
       "      <td>Corporate Insurance</td>\n",
       "      <td>10+ years</td>\n",
       "      <td>MD</td>\n",
       "      <td>219xx</td>\n",
       "      <td>719.0</td>\n",
       "      <td>C</td>\n",
       "    </tr>\n",
       "  </tbody>\n",
       "</table>\n",
       "</div>"
      ],
      "text/plain": [
       "   Member Number Member Date Loan Number Loan Date Loan Status  \\\n",
       "0        1592618      Aug-03    68407277    Dec-15  Fully Paid   \n",
       "1        1945270      Aug-00    68341763    Dec-15  Fully Paid   \n",
       "2         672413      Sep-08    66310712    Dec-15     Current   \n",
       "3        1263724      Apr-95    68356421    Dec-15     Current   \n",
       "4         661182      May-04    68566886    Dec-15  Fully Paid   \n",
       "\n",
       "   Net Loan Amount                 Customer Job Length of Employment  \\\n",
       "0           3600.0                      leadman            10+ years   \n",
       "1          20000.0                 truck driver            10+ years   \n",
       "2          35000.0  Information Systems Officer            10+ years   \n",
       "3          22400.0           Executive Director              6 years   \n",
       "4          29900.0          Corporate Insurance            10+ years   \n",
       "\n",
       "  Customer State Customer Zip  High FICO Grade  \n",
       "0             PA        190xx      679.0     C  \n",
       "1             IL        605xx      699.0     B  \n",
       "2             NJ        076xx      789.0     C  \n",
       "3             SC        290xx      714.0     C  \n",
       "4             MD        219xx      719.0     C  "
      ]
     },
     "execution_count": 20,
     "metadata": {},
     "output_type": "execute_result"
    }
   ],
   "source": [
    "Wilson_df_val_select.head()"
   ]
  },
  {
   "cell_type": "code",
   "execution_count": 21,
   "id": "f13a3ed0",
   "metadata": {},
   "outputs": [],
   "source": [
    "Wilson_df_1 = Wilson_df_val_select.set_axis(col_names, axis =1)"
   ]
  },
  {
   "cell_type": "code",
   "execution_count": 22,
   "id": "4f2c2645",
   "metadata": {},
   "outputs": [],
   "source": [
    "Wilson_df_1['Response'] = None"
   ]
  },
  {
   "cell_type": "code",
   "execution_count": 23,
   "id": "5449d428",
   "metadata": {},
   "outputs": [
    {
     "data": {
      "text/html": [
       "<div>\n",
       "<style scoped>\n",
       "    .dataframe tbody tr th:only-of-type {\n",
       "        vertical-align: middle;\n",
       "    }\n",
       "\n",
       "    .dataframe tbody tr th {\n",
       "        vertical-align: top;\n",
       "    }\n",
       "\n",
       "    .dataframe thead th {\n",
       "        text-align: right;\n",
       "    }\n",
       "</style>\n",
       "<table border=\"1\" class=\"dataframe\">\n",
       "  <thead>\n",
       "    <tr style=\"text-align: right;\">\n",
       "      <th></th>\n",
       "      <th>Mem_Num</th>\n",
       "      <th>Mem_Date</th>\n",
       "      <th>Loan_Num</th>\n",
       "      <th>Loan_Date</th>\n",
       "      <th>Loan_Stat</th>\n",
       "      <th>Loan_Amt</th>\n",
       "      <th>Title</th>\n",
       "      <th>Time_Employed</th>\n",
       "      <th>State</th>\n",
       "      <th>Zip</th>\n",
       "      <th>Cred_Score</th>\n",
       "      <th>Grade</th>\n",
       "      <th>Response</th>\n",
       "    </tr>\n",
       "  </thead>\n",
       "  <tbody>\n",
       "    <tr>\n",
       "      <th>0</th>\n",
       "      <td>1592618</td>\n",
       "      <td>Aug-03</td>\n",
       "      <td>68407277</td>\n",
       "      <td>Dec-15</td>\n",
       "      <td>Fully Paid</td>\n",
       "      <td>3600.0</td>\n",
       "      <td>leadman</td>\n",
       "      <td>10+ years</td>\n",
       "      <td>PA</td>\n",
       "      <td>190xx</td>\n",
       "      <td>679.0</td>\n",
       "      <td>C</td>\n",
       "      <td>None</td>\n",
       "    </tr>\n",
       "    <tr>\n",
       "      <th>1</th>\n",
       "      <td>1945270</td>\n",
       "      <td>Aug-00</td>\n",
       "      <td>68341763</td>\n",
       "      <td>Dec-15</td>\n",
       "      <td>Fully Paid</td>\n",
       "      <td>20000.0</td>\n",
       "      <td>truck driver</td>\n",
       "      <td>10+ years</td>\n",
       "      <td>IL</td>\n",
       "      <td>605xx</td>\n",
       "      <td>699.0</td>\n",
       "      <td>B</td>\n",
       "      <td>None</td>\n",
       "    </tr>\n",
       "    <tr>\n",
       "      <th>2</th>\n",
       "      <td>672413</td>\n",
       "      <td>Sep-08</td>\n",
       "      <td>66310712</td>\n",
       "      <td>Dec-15</td>\n",
       "      <td>Current</td>\n",
       "      <td>35000.0</td>\n",
       "      <td>Information Systems Officer</td>\n",
       "      <td>10+ years</td>\n",
       "      <td>NJ</td>\n",
       "      <td>076xx</td>\n",
       "      <td>789.0</td>\n",
       "      <td>C</td>\n",
       "      <td>None</td>\n",
       "    </tr>\n",
       "    <tr>\n",
       "      <th>3</th>\n",
       "      <td>1263724</td>\n",
       "      <td>Apr-95</td>\n",
       "      <td>68356421</td>\n",
       "      <td>Dec-15</td>\n",
       "      <td>Current</td>\n",
       "      <td>22400.0</td>\n",
       "      <td>Executive Director</td>\n",
       "      <td>6 years</td>\n",
       "      <td>SC</td>\n",
       "      <td>290xx</td>\n",
       "      <td>714.0</td>\n",
       "      <td>C</td>\n",
       "      <td>None</td>\n",
       "    </tr>\n",
       "    <tr>\n",
       "      <th>4</th>\n",
       "      <td>661182</td>\n",
       "      <td>May-04</td>\n",
       "      <td>68566886</td>\n",
       "      <td>Dec-15</td>\n",
       "      <td>Fully Paid</td>\n",
       "      <td>29900.0</td>\n",
       "      <td>Corporate Insurance</td>\n",
       "      <td>10+ years</td>\n",
       "      <td>MD</td>\n",
       "      <td>219xx</td>\n",
       "      <td>719.0</td>\n",
       "      <td>C</td>\n",
       "      <td>None</td>\n",
       "    </tr>\n",
       "  </tbody>\n",
       "</table>\n",
       "</div>"
      ],
      "text/plain": [
       "   Mem_Num Mem_Date  Loan_Num Loan_Date   Loan_Stat  Loan_Amt  \\\n",
       "0  1592618   Aug-03  68407277    Dec-15  Fully Paid    3600.0   \n",
       "1  1945270   Aug-00  68341763    Dec-15  Fully Paid   20000.0   \n",
       "2   672413   Sep-08  66310712    Dec-15     Current   35000.0   \n",
       "3  1263724   Apr-95  68356421    Dec-15     Current   22400.0   \n",
       "4   661182   May-04  68566886    Dec-15  Fully Paid   29900.0   \n",
       "\n",
       "                         Title Time_Employed State    Zip  Cred_Score Grade  \\\n",
       "0                      leadman     10+ years    PA  190xx       679.0     C   \n",
       "1                 truck driver     10+ years    IL  605xx       699.0     B   \n",
       "2  Information Systems Officer     10+ years    NJ  076xx       789.0     C   \n",
       "3           Executive Director       6 years    SC  290xx       714.0     C   \n",
       "4          Corporate Insurance     10+ years    MD  219xx       719.0     C   \n",
       "\n",
       "  Response  \n",
       "0     None  \n",
       "1     None  \n",
       "2     None  \n",
       "3     None  \n",
       "4     None  "
      ]
     },
     "execution_count": 23,
     "metadata": {},
     "output_type": "execute_result"
    }
   ],
   "source": [
    "Wilson_df_1.head()"
   ]
  },
  {
   "cell_type": "markdown",
   "id": "2e04a03a",
   "metadata": {},
   "source": [
    "### Combining two Datasets"
   ]
  },
  {
   "cell_type": "code",
   "execution_count": 24,
   "id": "f71f70d7",
   "metadata": {},
   "outputs": [],
   "source": [
    "Application_df = pd.concat([Beachside_df_1,Wilson_df_1], ignore_index= True)"
   ]
  },
  {
   "cell_type": "code",
   "execution_count": 25,
   "id": "faf0f1ac",
   "metadata": {},
   "outputs": [
    {
     "data": {
      "text/html": [
       "<div>\n",
       "<style scoped>\n",
       "    .dataframe tbody tr th:only-of-type {\n",
       "        vertical-align: middle;\n",
       "    }\n",
       "\n",
       "    .dataframe tbody tr th {\n",
       "        vertical-align: top;\n",
       "    }\n",
       "\n",
       "    .dataframe thead th {\n",
       "        text-align: right;\n",
       "    }\n",
       "</style>\n",
       "<table border=\"1\" class=\"dataframe\">\n",
       "  <thead>\n",
       "    <tr style=\"text-align: right;\">\n",
       "      <th></th>\n",
       "      <th>Mem_Num</th>\n",
       "      <th>Mem_Date</th>\n",
       "      <th>Loan_Num</th>\n",
       "      <th>Loan_Date</th>\n",
       "      <th>Loan_Stat</th>\n",
       "      <th>Loan_Amt</th>\n",
       "      <th>Title</th>\n",
       "      <th>Time_Employed</th>\n",
       "      <th>State</th>\n",
       "      <th>Zip</th>\n",
       "      <th>Cred_Score</th>\n",
       "      <th>Grade</th>\n",
       "      <th>Response</th>\n",
       "    </tr>\n",
       "  </thead>\n",
       "  <tbody>\n",
       "    <tr>\n",
       "      <th>0</th>\n",
       "      <td>828865</td>\n",
       "      <td>Dec-99</td>\n",
       "      <td>68355089</td>\n",
       "      <td>Dec-15</td>\n",
       "      <td>Fully Paid</td>\n",
       "      <td>24700.0</td>\n",
       "      <td>Engineer</td>\n",
       "      <td>10+ years</td>\n",
       "      <td>SD</td>\n",
       "      <td>577xx</td>\n",
       "      <td>719.0</td>\n",
       "      <td>C</td>\n",
       "      <td>None</td>\n",
       "    </tr>\n",
       "    <tr>\n",
       "      <th>1</th>\n",
       "      <td>96781</td>\n",
       "      <td>Oct-87</td>\n",
       "      <td>68426831</td>\n",
       "      <td>Dec-15</td>\n",
       "      <td>Fully Paid</td>\n",
       "      <td>11950.0</td>\n",
       "      <td>Veterinary Tecnician</td>\n",
       "      <td>4 years</td>\n",
       "      <td>GA</td>\n",
       "      <td>300xx</td>\n",
       "      <td>694.0</td>\n",
       "      <td>C</td>\n",
       "      <td>None</td>\n",
       "    </tr>\n",
       "    <tr>\n",
       "      <th>2</th>\n",
       "      <td>118711</td>\n",
       "      <td>Feb-99</td>\n",
       "      <td>67275481</td>\n",
       "      <td>Dec-15</td>\n",
       "      <td>Fully Paid</td>\n",
       "      <td>20000.0</td>\n",
       "      <td>road driver</td>\n",
       "      <td>10+ years</td>\n",
       "      <td>SC</td>\n",
       "      <td>293xx</td>\n",
       "      <td>709.0</td>\n",
       "      <td>B</td>\n",
       "      <td>None</td>\n",
       "    </tr>\n",
       "    <tr>\n",
       "      <th>3</th>\n",
       "      <td>548993</td>\n",
       "      <td>Nov-94</td>\n",
       "      <td>68616873</td>\n",
       "      <td>Dec-15</td>\n",
       "      <td>Fully Paid</td>\n",
       "      <td>8000.0</td>\n",
       "      <td>Vendor liaison</td>\n",
       "      <td>10+ years</td>\n",
       "      <td>RI</td>\n",
       "      <td>029xx</td>\n",
       "      <td>704.0</td>\n",
       "      <td>B</td>\n",
       "      <td>None</td>\n",
       "    </tr>\n",
       "    <tr>\n",
       "      <th>4</th>\n",
       "      <td>666541</td>\n",
       "      <td>Apr-95</td>\n",
       "      <td>68356421</td>\n",
       "      <td>Dec-15</td>\n",
       "      <td>Current</td>\n",
       "      <td>22400.0</td>\n",
       "      <td>Executive Director</td>\n",
       "      <td>6 years</td>\n",
       "      <td>SC</td>\n",
       "      <td>290xx</td>\n",
       "      <td>714.0</td>\n",
       "      <td>C</td>\n",
       "      <td>None</td>\n",
       "    </tr>\n",
       "    <tr>\n",
       "      <th>...</th>\n",
       "      <td>...</td>\n",
       "      <td>...</td>\n",
       "      <td>...</td>\n",
       "      <td>...</td>\n",
       "      <td>...</td>\n",
       "      <td>...</td>\n",
       "      <td>...</td>\n",
       "      <td>...</td>\n",
       "      <td>...</td>\n",
       "      <td>...</td>\n",
       "      <td>...</td>\n",
       "      <td>...</td>\n",
       "      <td>...</td>\n",
       "    </tr>\n",
       "    <tr>\n",
       "      <th>688210</th>\n",
       "      <td>1359220</td>\n",
       "      <td>Feb-90</td>\n",
       "      <td>70562083</td>\n",
       "      <td>Feb-16</td>\n",
       "      <td>Fully Paid</td>\n",
       "      <td>18000.0</td>\n",
       "      <td>Coordinator</td>\n",
       "      <td>6 years</td>\n",
       "      <td>WI</td>\n",
       "      <td>543xx</td>\n",
       "      <td>689.0</td>\n",
       "      <td>C</td>\n",
       "      <td>None</td>\n",
       "    </tr>\n",
       "    <tr>\n",
       "      <th>688211</th>\n",
       "      <td>1764354</td>\n",
       "      <td>Sep-80</td>\n",
       "      <td>70162363</td>\n",
       "      <td>Mar-16</td>\n",
       "      <td>Fully Paid</td>\n",
       "      <td>15000.0</td>\n",
       "      <td>Guidance Secretary</td>\n",
       "      <td>10+ years</td>\n",
       "      <td>NJ</td>\n",
       "      <td>077xx</td>\n",
       "      <td>719.0</td>\n",
       "      <td>E</td>\n",
       "      <td>None</td>\n",
       "    </tr>\n",
       "    <tr>\n",
       "      <th>688212</th>\n",
       "      <td>1792356</td>\n",
       "      <td>Nov-03</td>\n",
       "      <td>72663394</td>\n",
       "      <td>Feb-16</td>\n",
       "      <td>Charged Off</td>\n",
       "      <td>14400.0</td>\n",
       "      <td>Purchasing manager</td>\n",
       "      <td>10+ years</td>\n",
       "      <td>PA</td>\n",
       "      <td>168xx</td>\n",
       "      <td>679.0</td>\n",
       "      <td>D</td>\n",
       "      <td>None</td>\n",
       "    </tr>\n",
       "    <tr>\n",
       "      <th>688213</th>\n",
       "      <td>1796459</td>\n",
       "      <td>May-90</td>\n",
       "      <td>72663353</td>\n",
       "      <td>Feb-16</td>\n",
       "      <td>Fully Paid</td>\n",
       "      <td>16000.0</td>\n",
       "      <td>Consultant</td>\n",
       "      <td>&lt; 1 year</td>\n",
       "      <td>NC</td>\n",
       "      <td>284xx</td>\n",
       "      <td>714.0</td>\n",
       "      <td>B</td>\n",
       "      <td>None</td>\n",
       "    </tr>\n",
       "    <tr>\n",
       "      <th>688214</th>\n",
       "      <td>804494</td>\n",
       "      <td>Mar-89</td>\n",
       "      <td>72785737</td>\n",
       "      <td>Feb-16</td>\n",
       "      <td>Fully Paid</td>\n",
       "      <td>6000.0</td>\n",
       "      <td>Administrative Assistant</td>\n",
       "      <td>6 years</td>\n",
       "      <td>MS</td>\n",
       "      <td>394xx</td>\n",
       "      <td>719.0</td>\n",
       "      <td>A</td>\n",
       "      <td>None</td>\n",
       "    </tr>\n",
       "  </tbody>\n",
       "</table>\n",
       "<p>688215 rows × 13 columns</p>\n",
       "</div>"
      ],
      "text/plain": [
       "        Mem_Num Mem_Date  Loan_Num Loan_Date    Loan_Stat  Loan_Amt  \\\n",
       "0        828865   Dec-99  68355089    Dec-15   Fully Paid   24700.0   \n",
       "1         96781   Oct-87  68426831    Dec-15   Fully Paid   11950.0   \n",
       "2        118711   Feb-99  67275481    Dec-15   Fully Paid   20000.0   \n",
       "3        548993   Nov-94  68616873    Dec-15   Fully Paid    8000.0   \n",
       "4        666541   Apr-95  68356421    Dec-15      Current   22400.0   \n",
       "...         ...      ...       ...       ...          ...       ...   \n",
       "688210  1359220   Feb-90  70562083    Feb-16   Fully Paid   18000.0   \n",
       "688211  1764354   Sep-80  70162363    Mar-16   Fully Paid   15000.0   \n",
       "688212  1792356   Nov-03  72663394    Feb-16  Charged Off   14400.0   \n",
       "688213  1796459   May-90  72663353    Feb-16   Fully Paid   16000.0   \n",
       "688214   804494   Mar-89  72785737    Feb-16   Fully Paid    6000.0   \n",
       "\n",
       "                           Title Time_Employed State    Zip  Cred_Score Grade  \\\n",
       "0                       Engineer     10+ years    SD  577xx       719.0     C   \n",
       "1           Veterinary Tecnician       4 years    GA  300xx       694.0     C   \n",
       "2                    road driver     10+ years    SC  293xx       709.0     B   \n",
       "3                 Vendor liaison     10+ years    RI  029xx       704.0     B   \n",
       "4             Executive Director       6 years    SC  290xx       714.0     C   \n",
       "...                          ...           ...   ...    ...         ...   ...   \n",
       "688210               Coordinator       6 years    WI  543xx       689.0     C   \n",
       "688211        Guidance Secretary     10+ years    NJ  077xx       719.0     E   \n",
       "688212        Purchasing manager     10+ years    PA  168xx       679.0     D   \n",
       "688213                Consultant      < 1 year    NC  284xx       714.0     B   \n",
       "688214  Administrative Assistant       6 years    MS  394xx       719.0     A   \n",
       "\n",
       "       Response  \n",
       "0          None  \n",
       "1          None  \n",
       "2          None  \n",
       "3          None  \n",
       "4          None  \n",
       "...         ...  \n",
       "688210     None  \n",
       "688211     None  \n",
       "688212     None  \n",
       "688213     None  \n",
       "688214     None  \n",
       "\n",
       "[688215 rows x 13 columns]"
      ]
     },
     "execution_count": 25,
     "metadata": {},
     "output_type": "execute_result"
    }
   ],
   "source": [
    "Application_df"
   ]
  },
  {
   "cell_type": "code",
   "execution_count": 26,
   "id": "e473e796",
   "metadata": {},
   "outputs": [
    {
     "data": {
      "text/plain": [
       "(688215, 13)"
      ]
     },
     "execution_count": 26,
     "metadata": {},
     "output_type": "execute_result"
    }
   ],
   "source": [
    "Application_df.shape"
   ]
  },
  {
   "cell_type": "markdown",
   "id": "9819fb0e",
   "metadata": {},
   "source": [
    "## Data Exploring and Cleaning"
   ]
  },
  {
   "cell_type": "markdown",
   "id": "7937609f",
   "metadata": {},
   "source": [
    "### Verifying Basic Data Integrity"
   ]
  },
  {
   "cell_type": "markdown",
   "id": "862f0e36",
   "metadata": {},
   "source": [
    "The \"Loan_Num\" column seems like it contians unique identifers. To verify whether \"Loan_Num\" in fact cointains unique values through whole the dataset, we can count the values of this columns."
   ]
  },
  {
   "cell_type": "code",
   "execution_count": 27,
   "id": "e9e57659",
   "metadata": {},
   "outputs": [
    {
     "data": {
      "text/plain": [
       "599382"
      ]
     },
     "execution_count": 27,
     "metadata": {},
     "output_type": "execute_result"
    }
   ],
   "source": [
    "Application_df['Loan_Num'].nunique()"
   ]
  },
  {
   "cell_type": "markdown",
   "id": "47329f1b",
   "metadata": {},
   "source": [
    "There are some duplicated applications in the dataset."
   ]
  },
  {
   "cell_type": "code",
   "execution_count": 28,
   "id": "36feffbf",
   "metadata": {},
   "outputs": [],
   "source": [
    "Loan_Num_counts = Application_df['Loan_Num'].value_counts()"
   ]
  },
  {
   "cell_type": "code",
   "execution_count": 29,
   "id": "26764a00",
   "metadata": {},
   "outputs": [
    {
     "data": {
      "text/plain": [
       "74081952     2\n",
       "130946224    2\n",
       "73763215     2\n",
       "55898451     2\n",
       "55958862     2\n",
       "Name: Loan_Num, dtype: int64"
      ]
     },
     "execution_count": 29,
     "metadata": {},
     "output_type": "execute_result"
    }
   ],
   "source": [
    "Loan_Num_counts.head()"
   ]
  },
  {
   "cell_type": "code",
   "execution_count": 30,
   "id": "f55672b3",
   "metadata": {},
   "outputs": [
    {
     "data": {
      "text/plain": [
       "1    510549\n",
       "2     88833\n",
       "Name: Loan_Num, dtype: int64"
      ]
     },
     "execution_count": 30,
     "metadata": {},
     "output_type": "execute_result"
    }
   ],
   "source": [
    "Loan_Num_counts.value_counts()"
   ]
  },
  {
   "cell_type": "code",
   "execution_count": 31,
   "id": "48a987af",
   "metadata": {},
   "outputs": [],
   "source": [
    "dup_mask = Loan_Num_counts == 2"
   ]
  },
  {
   "cell_type": "code",
   "execution_count": 32,
   "id": "f2b7b4f8",
   "metadata": {},
   "outputs": [
    {
     "data": {
      "text/plain": [
       "74081952     True\n",
       "130946224    True\n",
       "73763215     True\n",
       "55898451     True\n",
       "55958862     True\n",
       "Name: Loan_Num, dtype: bool"
      ]
     },
     "execution_count": 32,
     "metadata": {},
     "output_type": "execute_result"
    }
   ],
   "source": [
    "dup_mask[0:5]"
   ]
  },
  {
   "cell_type": "code",
   "execution_count": 33,
   "id": "7ebddae9",
   "metadata": {},
   "outputs": [],
   "source": [
    "dup_Loan_Num = Loan_Num_counts.index[dup_mask]\n",
    "dup_Loan_Num = list(dup_Loan_Num)"
   ]
  },
  {
   "cell_type": "code",
   "execution_count": 34,
   "id": "b707065d",
   "metadata": {},
   "outputs": [
    {
     "data": {
      "text/plain": [
       "['74081952', 130946224, '73763215', 55898451, 55958862]"
      ]
     },
     "execution_count": 34,
     "metadata": {},
     "output_type": "execute_result"
    }
   ],
   "source": [
    "dup_Loan_Num[0:5]"
   ]
  },
  {
   "cell_type": "code",
   "execution_count": 35,
   "id": "c40abd10",
   "metadata": {},
   "outputs": [
    {
     "data": {
      "text/plain": [
       "88833"
      ]
     },
     "execution_count": 35,
     "metadata": {},
     "output_type": "execute_result"
    }
   ],
   "source": [
    "len(dup_Loan_Num)"
   ]
  },
  {
   "cell_type": "code",
   "execution_count": 36,
   "id": "beec714a",
   "metadata": {},
   "outputs": [
    {
     "data": {
      "text/html": [
       "<div>\n",
       "<style scoped>\n",
       "    .dataframe tbody tr th:only-of-type {\n",
       "        vertical-align: middle;\n",
       "    }\n",
       "\n",
       "    .dataframe tbody tr th {\n",
       "        vertical-align: top;\n",
       "    }\n",
       "\n",
       "    .dataframe thead th {\n",
       "        text-align: right;\n",
       "    }\n",
       "</style>\n",
       "<table border=\"1\" class=\"dataframe\">\n",
       "  <thead>\n",
       "    <tr style=\"text-align: right;\">\n",
       "      <th></th>\n",
       "      <th>Mem_Num</th>\n",
       "      <th>Mem_Date</th>\n",
       "      <th>Loan_Num</th>\n",
       "      <th>Loan_Date</th>\n",
       "      <th>Loan_Stat</th>\n",
       "      <th>Loan_Amt</th>\n",
       "      <th>Title</th>\n",
       "      <th>Time_Employed</th>\n",
       "      <th>State</th>\n",
       "      <th>Zip</th>\n",
       "      <th>Cred_Score</th>\n",
       "      <th>Grade</th>\n",
       "      <th>Response</th>\n",
       "    </tr>\n",
       "  </thead>\n",
       "  <tbody>\n",
       "    <tr>\n",
       "      <th>158188</th>\n",
       "      <td>137505</td>\n",
       "      <td>Dec-04</td>\n",
       "      <td>130946224</td>\n",
       "      <td>Mar-18</td>\n",
       "      <td>Current</td>\n",
       "      <td>2500.0</td>\n",
       "      <td>Journey Admin Clerk</td>\n",
       "      <td>4 years</td>\n",
       "      <td>CA</td>\n",
       "      <td>957xx</td>\n",
       "      <td>719.0</td>\n",
       "      <td>A</td>\n",
       "      <td>None</td>\n",
       "    </tr>\n",
       "    <tr>\n",
       "      <th>377708</th>\n",
       "      <td>722098</td>\n",
       "      <td>Sep-02</td>\n",
       "      <td>74081952</td>\n",
       "      <td>Mar-16</td>\n",
       "      <td>Fully Paid</td>\n",
       "      <td>15000.0</td>\n",
       "      <td>Data entry manager</td>\n",
       "      <td>10+ years</td>\n",
       "      <td>PA</td>\n",
       "      <td>180xx</td>\n",
       "      <td>699.0</td>\n",
       "      <td>B</td>\n",
       "      <td>None</td>\n",
       "    </tr>\n",
       "    <tr>\n",
       "      <th>386783</th>\n",
       "      <td>251113</td>\n",
       "      <td>Nov-00</td>\n",
       "      <td>73763215</td>\n",
       "      <td>Mar-16</td>\n",
       "      <td>Current</td>\n",
       "      <td>20000.0</td>\n",
       "      <td>Clerical</td>\n",
       "      <td>9 years</td>\n",
       "      <td>CA</td>\n",
       "      <td>925xx</td>\n",
       "      <td>674.0</td>\n",
       "      <td>F</td>\n",
       "      <td>None</td>\n",
       "    </tr>\n",
       "    <tr>\n",
       "      <th>511661</th>\n",
       "      <td>343604</td>\n",
       "      <td>Dec-04</td>\n",
       "      <td>130946224</td>\n",
       "      <td>Mar-18</td>\n",
       "      <td>Current</td>\n",
       "      <td>2500.0</td>\n",
       "      <td>Journey Admin Clerk</td>\n",
       "      <td>4 years</td>\n",
       "      <td>CA</td>\n",
       "      <td>957xx</td>\n",
       "      <td>719.0</td>\n",
       "      <td>A</td>\n",
       "      <td>None</td>\n",
       "    </tr>\n",
       "    <tr>\n",
       "      <th>676601</th>\n",
       "      <td>564370</td>\n",
       "      <td>Sep-02</td>\n",
       "      <td>74081952</td>\n",
       "      <td>Mar-16</td>\n",
       "      <td>Fully Paid</td>\n",
       "      <td>15000.0</td>\n",
       "      <td>Data entry manager</td>\n",
       "      <td>10+ years</td>\n",
       "      <td>PA</td>\n",
       "      <td>180xx</td>\n",
       "      <td>699.0</td>\n",
       "      <td>B</td>\n",
       "      <td>None</td>\n",
       "    </tr>\n",
       "    <tr>\n",
       "      <th>683413</th>\n",
       "      <td>692354</td>\n",
       "      <td>Nov-00</td>\n",
       "      <td>73763215</td>\n",
       "      <td>Mar-16</td>\n",
       "      <td>Current</td>\n",
       "      <td>20000.0</td>\n",
       "      <td>Clerical</td>\n",
       "      <td>9 years</td>\n",
       "      <td>CA</td>\n",
       "      <td>925xx</td>\n",
       "      <td>674.0</td>\n",
       "      <td>F</td>\n",
       "      <td>None</td>\n",
       "    </tr>\n",
       "  </tbody>\n",
       "</table>\n",
       "</div>"
      ],
      "text/plain": [
       "        Mem_Num Mem_Date   Loan_Num Loan_Date   Loan_Stat  Loan_Amt  \\\n",
       "158188   137505   Dec-04  130946224    Mar-18     Current    2500.0   \n",
       "377708   722098   Sep-02   74081952    Mar-16  Fully Paid   15000.0   \n",
       "386783   251113   Nov-00   73763215    Mar-16     Current   20000.0   \n",
       "511661   343604   Dec-04  130946224    Mar-18     Current    2500.0   \n",
       "676601   564370   Sep-02   74081952    Mar-16  Fully Paid   15000.0   \n",
       "683413   692354   Nov-00   73763215    Mar-16     Current   20000.0   \n",
       "\n",
       "                      Title Time_Employed State    Zip  Cred_Score Grade  \\\n",
       "158188  Journey Admin Clerk       4 years    CA  957xx       719.0     A   \n",
       "377708   Data entry manager     10+ years    PA  180xx       699.0     B   \n",
       "386783             Clerical       9 years    CA  925xx       674.0     F   \n",
       "511661  Journey Admin Clerk       4 years    CA  957xx       719.0     A   \n",
       "676601   Data entry manager     10+ years    PA  180xx       699.0     B   \n",
       "683413             Clerical       9 years    CA  925xx       674.0     F   \n",
       "\n",
       "       Response  \n",
       "158188     None  \n",
       "377708     None  \n",
       "386783     None  \n",
       "511661     None  \n",
       "676601     None  \n",
       "683413     None  "
      ]
     },
     "execution_count": 36,
     "metadata": {},
     "output_type": "execute_result"
    }
   ],
   "source": [
    "Application_df.loc[Application_df['Loan_Num'].isin(dup_Loan_Num[0:3]),:].head(20)"
   ]
  },
  {
   "cell_type": "code",
   "execution_count": 37,
   "id": "f470e186",
   "metadata": {},
   "outputs": [
    {
     "data": {
      "text/plain": [
       "177666"
      ]
     },
     "execution_count": 37,
     "metadata": {},
     "output_type": "execute_result"
    }
   ],
   "source": [
    "len(Application_df.loc[Application_df['Loan_Num'].isin(dup_Loan_Num),[ 'Loan_Num', 'Loan_Date', 'Loan_Stat', 'Loan_Amt',\n",
    "                                                                  'Title', 'Time_Employed', 'State', 'Zip', 'Cred_Score', \n",
    "                                                                  'Grade',  'Response']].duplicated())"
   ]
  },
  {
   "cell_type": "markdown",
   "id": "bd773784",
   "metadata": {},
   "source": [
    "Except \"Member Number\" and \"Member Date\" values, duplicated applications contain exactly same values. Thus, we can delete duplacated applications."
   ]
  },
  {
   "cell_type": "code",
   "execution_count": 38,
   "id": "16fbcc0a",
   "metadata": {},
   "outputs": [],
   "source": [
    "Application_Drop_dup = Application_df.drop_duplicates(subset=['Loan_Num'])"
   ]
  },
  {
   "cell_type": "code",
   "execution_count": 39,
   "id": "b7601741",
   "metadata": {},
   "outputs": [
    {
     "data": {
      "text/plain": [
       "(599382, 13)"
      ]
     },
     "execution_count": 39,
     "metadata": {},
     "output_type": "execute_result"
    }
   ],
   "source": [
    "Application_Drop_dup.shape"
   ]
  },
  {
   "cell_type": "code",
   "execution_count": 40,
   "id": "e019e7dd",
   "metadata": {},
   "outputs": [
    {
     "data": {
      "text/plain": [
       "599382"
      ]
     },
     "execution_count": 40,
     "metadata": {},
     "output_type": "execute_result"
    }
   ],
   "source": [
    "Application_Drop_dup['Loan_Num'].nunique()"
   ]
  },
  {
   "cell_type": "markdown",
   "id": "ab633229",
   "metadata": {},
   "source": [
    "### Exploring and Cleaning Data"
   ]
  },
  {
   "cell_type": "code",
   "execution_count": 41,
   "id": "2ba13315",
   "metadata": {},
   "outputs": [],
   "source": [
    "Application_Clean_df1 = Application_Drop_dup"
   ]
  },
  {
   "cell_type": "code",
   "execution_count": 42,
   "id": "65145b7d",
   "metadata": {},
   "outputs": [
    {
     "data": {
      "text/plain": [
       "Index(['Mem_Num', 'Mem_Date', 'Loan_Num', 'Loan_Date', 'Loan_Stat', 'Loan_Amt',\n",
       "       'Title', 'Time_Employed', 'State', 'Zip', 'Cred_Score', 'Grade',\n",
       "       'Response'],\n",
       "      dtype='object')"
      ]
     },
     "execution_count": 42,
     "metadata": {},
     "output_type": "execute_result"
    }
   ],
   "source": [
    "Application_Clean_df1.columns"
   ]
  },
  {
   "cell_type": "code",
   "execution_count": 43,
   "id": "983bb4ba",
   "metadata": {},
   "outputs": [
    {
     "name": "stdout",
     "output_type": "stream",
     "text": [
      "<class 'pandas.core.frame.DataFrame'>\n",
      "Int64Index: 599382 entries, 0 to 688214\n",
      "Data columns (total 13 columns):\n",
      " #   Column         Non-Null Count   Dtype  \n",
      "---  ------         --------------   -----  \n",
      " 0   Mem_Num        599382 non-null  int64  \n",
      " 1   Mem_Date       599377 non-null  object \n",
      " 2   Loan_Num       599382 non-null  object \n",
      " 3   Loan_Date      599377 non-null  object \n",
      " 4   Loan_Stat      599377 non-null  object \n",
      " 5   Loan_Amt       599377 non-null  float64\n",
      " 6   Title          556877 non-null  object \n",
      " 7   Time_Employed  559106 non-null  object \n",
      " 8   State          599377 non-null  object \n",
      " 9   Zip            599377 non-null  object \n",
      " 10  Cred_Score     599377 non-null  float64\n",
      " 11  Grade          599377 non-null  object \n",
      " 12  Response       0 non-null       object \n",
      "dtypes: float64(2), int64(1), object(10)\n",
      "memory usage: 64.0+ MB\n"
     ]
    }
   ],
   "source": [
    "Application_Clean_df1.info()"
   ]
  },
  {
   "cell_type": "markdown",
   "id": "0acaef04",
   "metadata": {},
   "source": [
    "Removing variables that will not be used in the model"
   ]
  },
  {
   "cell_type": "code",
   "execution_count": 44,
   "id": "e668e0dd",
   "metadata": {},
   "outputs": [],
   "source": [
    "Application_Clean_df2 = Application_Clean_df1[['Loan_Num', 'Loan_Stat', 'Loan_Amt','Time_Employed',\n",
    "                                               'State', 'Cred_Score', 'Grade', 'Response']]"
   ]
  },
  {
   "cell_type": "code",
   "execution_count": 45,
   "id": "9723bc52",
   "metadata": {},
   "outputs": [
    {
     "data": {
      "text/html": [
       "<div>\n",
       "<style scoped>\n",
       "    .dataframe tbody tr th:only-of-type {\n",
       "        vertical-align: middle;\n",
       "    }\n",
       "\n",
       "    .dataframe tbody tr th {\n",
       "        vertical-align: top;\n",
       "    }\n",
       "\n",
       "    .dataframe thead th {\n",
       "        text-align: right;\n",
       "    }\n",
       "</style>\n",
       "<table border=\"1\" class=\"dataframe\">\n",
       "  <thead>\n",
       "    <tr style=\"text-align: right;\">\n",
       "      <th></th>\n",
       "      <th>Loan_Num</th>\n",
       "      <th>Loan_Stat</th>\n",
       "      <th>Loan_Amt</th>\n",
       "      <th>Time_Employed</th>\n",
       "      <th>State</th>\n",
       "      <th>Cred_Score</th>\n",
       "      <th>Grade</th>\n",
       "      <th>Response</th>\n",
       "    </tr>\n",
       "  </thead>\n",
       "  <tbody>\n",
       "    <tr>\n",
       "      <th>0</th>\n",
       "      <td>68355089</td>\n",
       "      <td>Fully Paid</td>\n",
       "      <td>24700.0</td>\n",
       "      <td>10+ years</td>\n",
       "      <td>SD</td>\n",
       "      <td>719.0</td>\n",
       "      <td>C</td>\n",
       "      <td>None</td>\n",
       "    </tr>\n",
       "    <tr>\n",
       "      <th>1</th>\n",
       "      <td>68426831</td>\n",
       "      <td>Fully Paid</td>\n",
       "      <td>11950.0</td>\n",
       "      <td>4 years</td>\n",
       "      <td>GA</td>\n",
       "      <td>694.0</td>\n",
       "      <td>C</td>\n",
       "      <td>None</td>\n",
       "    </tr>\n",
       "    <tr>\n",
       "      <th>2</th>\n",
       "      <td>67275481</td>\n",
       "      <td>Fully Paid</td>\n",
       "      <td>20000.0</td>\n",
       "      <td>10+ years</td>\n",
       "      <td>SC</td>\n",
       "      <td>709.0</td>\n",
       "      <td>B</td>\n",
       "      <td>None</td>\n",
       "    </tr>\n",
       "    <tr>\n",
       "      <th>3</th>\n",
       "      <td>68616873</td>\n",
       "      <td>Fully Paid</td>\n",
       "      <td>8000.0</td>\n",
       "      <td>10+ years</td>\n",
       "      <td>RI</td>\n",
       "      <td>704.0</td>\n",
       "      <td>B</td>\n",
       "      <td>None</td>\n",
       "    </tr>\n",
       "    <tr>\n",
       "      <th>4</th>\n",
       "      <td>68356421</td>\n",
       "      <td>Current</td>\n",
       "      <td>22400.0</td>\n",
       "      <td>6 years</td>\n",
       "      <td>SC</td>\n",
       "      <td>714.0</td>\n",
       "      <td>C</td>\n",
       "      <td>None</td>\n",
       "    </tr>\n",
       "  </tbody>\n",
       "</table>\n",
       "</div>"
      ],
      "text/plain": [
       "   Loan_Num   Loan_Stat  Loan_Amt Time_Employed State  Cred_Score Grade  \\\n",
       "0  68355089  Fully Paid   24700.0     10+ years    SD       719.0     C   \n",
       "1  68426831  Fully Paid   11950.0       4 years    GA       694.0     C   \n",
       "2  67275481  Fully Paid   20000.0     10+ years    SC       709.0     B   \n",
       "3  68616873  Fully Paid    8000.0     10+ years    RI       704.0     B   \n",
       "4  68356421     Current   22400.0       6 years    SC       714.0     C   \n",
       "\n",
       "  Response  \n",
       "0     None  \n",
       "1     None  \n",
       "2     None  \n",
       "3     None  \n",
       "4     None  "
      ]
     },
     "execution_count": 45,
     "metadata": {},
     "output_type": "execute_result"
    }
   ],
   "source": [
    "Application_Clean_df2.head()"
   ]
  },
  {
   "cell_type": "code",
   "execution_count": 46,
   "id": "1a5f06c2",
   "metadata": {},
   "outputs": [
    {
     "name": "stdout",
     "output_type": "stream",
     "text": [
      "<class 'pandas.core.frame.DataFrame'>\n",
      "Int64Index: 599382 entries, 0 to 688214\n",
      "Data columns (total 8 columns):\n",
      " #   Column         Non-Null Count   Dtype  \n",
      "---  ------         --------------   -----  \n",
      " 0   Loan_Num       599382 non-null  object \n",
      " 1   Loan_Stat      599377 non-null  object \n",
      " 2   Loan_Amt       599377 non-null  float64\n",
      " 3   Time_Employed  559106 non-null  object \n",
      " 4   State          599377 non-null  object \n",
      " 5   Cred_Score     599377 non-null  float64\n",
      " 6   Grade          599377 non-null  object \n",
      " 7   Response       0 non-null       object \n",
      "dtypes: float64(2), object(6)\n",
      "memory usage: 41.2+ MB\n"
     ]
    }
   ],
   "source": [
    "Application_Clean_df2.info()"
   ]
  },
  {
   "cell_type": "code",
   "execution_count": 47,
   "id": "f9dac6d7",
   "metadata": {},
   "outputs": [],
   "source": [
    "Application_Clean_df3 = Application_Clean_df2.dropna(axis = 0, subset=['Time_Employed'])"
   ]
  },
  {
   "cell_type": "code",
   "execution_count": 48,
   "id": "aea05499",
   "metadata": {},
   "outputs": [
    {
     "name": "stdout",
     "output_type": "stream",
     "text": [
      "<class 'pandas.core.frame.DataFrame'>\n",
      "Int64Index: 559106 entries, 0 to 688214\n",
      "Data columns (total 8 columns):\n",
      " #   Column         Non-Null Count   Dtype  \n",
      "---  ------         --------------   -----  \n",
      " 0   Loan_Num       559106 non-null  object \n",
      " 1   Loan_Stat      559106 non-null  object \n",
      " 2   Loan_Amt       559106 non-null  float64\n",
      " 3   Time_Employed  559106 non-null  object \n",
      " 4   State          559106 non-null  object \n",
      " 5   Cred_Score     559106 non-null  float64\n",
      " 6   Grade          559106 non-null  object \n",
      " 7   Response       0 non-null       object \n",
      "dtypes: float64(2), object(6)\n",
      "memory usage: 38.4+ MB\n"
     ]
    }
   ],
   "source": [
    "Application_Clean_df3.info()"
   ]
  },
  {
   "cell_type": "code",
   "execution_count": 49,
   "id": "011755b4",
   "metadata": {},
   "outputs": [
    {
     "data": {
      "text/plain": [
       "CA    75668\n",
       "TX    46889\n",
       "NY    45676\n",
       "FL    39347\n",
       "IL    22981\n",
       "NJ    20512\n",
       "PA    19174\n",
       "OH    18896\n",
       "GA    18374\n",
       "VA    15726\n",
       "NC    15386\n",
       "MI    14407\n",
       "MD    13578\n",
       "AZ    13035\n",
       "MA    13019\n",
       "CO    12147\n",
       "WA    11391\n",
       "MN    10302\n",
       "IN     9783\n",
       "TN     9243\n",
       "CT     9040\n",
       "MO     8887\n",
       "NV     7929\n",
       "WI     7465\n",
       "SC     6725\n",
       "AL     6643\n",
       "LA     6528\n",
       "OR     6333\n",
       "KY     5323\n",
       "OK     5164\n",
       "KS     4684\n",
       "AR     4018\n",
       "UT     3607\n",
       "MS     3479\n",
       "NM     2905\n",
       "NH     2893\n",
       "HI     2434\n",
       "RI     2431\n",
       "NE     2329\n",
       "WV     2015\n",
       "DE     1577\n",
       "MT     1488\n",
       "AK     1361\n",
       "ME     1338\n",
       "DC     1312\n",
       "VT     1250\n",
       "WY     1174\n",
       "SD     1110\n",
       "ID     1102\n",
       "ND     1028\n",
       "Name: State, dtype: int64"
      ]
     },
     "execution_count": 49,
     "metadata": {},
     "output_type": "execute_result"
    }
   ],
   "source": [
    "Application_Clean_df3['State'].value_counts()"
   ]
  },
  {
   "cell_type": "code",
   "execution_count": 50,
   "id": "c6ccaa6a",
   "metadata": {},
   "outputs": [],
   "source": [
    "Regions ={'CA':'West','CO':'West','WY':'West','MT':'West','ID':'West',\n",
    "          'WA':'West','OR':'West','UT':'West','NV':'West','AK':'West','HI':'West',\n",
    "         'ME':'Northeast','MA':'Northeast','RI':'Northeast','CT':'Northeast','NH':'Northeast','VT':'Northeast',\n",
    "         'NY':'Northeast','PA':'Northeast','NJ':'Northeast','DE':'Northeast','MD':'Northeast','DC':'Northeast',\n",
    "         'WV':'Southeast','VA':'Southeast','KY':'Southeast','TN':'Southeast','NC':'Southeast','SC':'Southeast',\n",
    "         'GA':'Southeast','AL':'Southeast','MS':'Southeast','AR':'Southeast','LA':'Southeast','FL':'Southeast',\n",
    "         'OH':'Midwest','IN':'Midwest','MI':'Midwest','IL':'Midwest','MO':'Midwest','WI':'Midwest','MN':'Midwest',\n",
    "         'IA':'Midwest','KS':'Midwest','NE':'Midwest','SD':'Midwest','ND':'Midwest',\n",
    "         'TX':'Southwest','OK':'Southwest','NM':'Southwest','AZ':'Southwest'}"
   ]
  },
  {
   "cell_type": "code",
   "execution_count": 51,
   "id": "b4e31991",
   "metadata": {},
   "outputs": [
    {
     "name": "stderr",
     "output_type": "stream",
     "text": [
      "C:\\Users\\hoain\\AppData\\Local\\Temp/ipykernel_51288/1878994453.py:1: SettingWithCopyWarning: \n",
      "A value is trying to be set on a copy of a slice from a DataFrame.\n",
      "Try using .loc[row_indexer,col_indexer] = value instead\n",
      "\n",
      "See the caveats in the documentation: https://pandas.pydata.org/pandas-docs/stable/user_guide/indexing.html#returning-a-view-versus-a-copy\n",
      "  Application_Clean_df3['Region'] = Application_Clean_df2['State'].map(Regions)\n"
     ]
    }
   ],
   "source": [
    "Application_Clean_df3['Region'] = Application_Clean_df2['State'].map(Regions)"
   ]
  },
  {
   "cell_type": "code",
   "execution_count": 52,
   "id": "6367a162",
   "metadata": {},
   "outputs": [
    {
     "data": {
      "text/plain": [
       "Fully Paid            255514\n",
       "Current               227476\n",
       "Charged Off            66908\n",
       "Late (31-120 days)      5756\n",
       "In Grace Period         2348\n",
       "Late (16-30 days)       1091\n",
       "Default                   13\n",
       "Name: Loan_Stat, dtype: int64"
      ]
     },
     "execution_count": 52,
     "metadata": {},
     "output_type": "execute_result"
    }
   ],
   "source": [
    "Application_Clean_df3['Loan_Stat'].value_counts()"
   ]
  },
  {
   "cell_type": "code",
   "execution_count": 53,
   "id": "346aa39d",
   "metadata": {},
   "outputs": [
    {
     "data": {
      "text/plain": [
       "Southeast    132807\n",
       "Northeast    131800\n",
       "West         124634\n",
       "Midwest      101872\n",
       "Southwest     67993\n",
       "Name: Region, dtype: int64"
      ]
     },
     "execution_count": 53,
     "metadata": {},
     "output_type": "execute_result"
    }
   ],
   "source": [
    "Application_Clean_df3['Region'].value_counts()"
   ]
  },
  {
   "cell_type": "code",
   "execution_count": 54,
   "id": "98f28e70",
   "metadata": {},
   "outputs": [
    {
     "data": {
      "text/plain": [
       "10+ years    199581\n",
       "2 years       53945\n",
       "< 1 year      50980\n",
       "3 years       48287\n",
       "1 year        39483\n",
       "4 years       36212\n",
       "5 years       36187\n",
       "6 years       25056\n",
       "8 years       24397\n",
       "7 years       23490\n",
       "9 years       21488\n",
       "Name: Time_Employed, dtype: int64"
      ]
     },
     "execution_count": 54,
     "metadata": {},
     "output_type": "execute_result"
    }
   ],
   "source": [
    "Application_Clean_df3['Time_Employed'].value_counts()"
   ]
  },
  {
   "cell_type": "code",
   "execution_count": 55,
   "id": "4fffcdf6",
   "metadata": {},
   "outputs": [],
   "source": [
    "Time_Groups = {'< 1 year':'under 2 years','1 year':'under 2 years','2 years':'under 2 years',\n",
    "              '3 years':'3-5 years','4 years':'3-5 years','5 years':'3-5 years',\n",
    "              '6 years':'6-10 years','7 years':'6-10 years','8 years':'6-10 years','9 years':'6-10 years',\n",
    "              '10+ years':'above 10 years'}"
   ]
  },
  {
   "cell_type": "code",
   "execution_count": 56,
   "id": "e2607f6b",
   "metadata": {},
   "outputs": [
    {
     "name": "stderr",
     "output_type": "stream",
     "text": [
      "C:\\Users\\hoain\\AppData\\Local\\Temp/ipykernel_51288/2829900419.py:1: SettingWithCopyWarning: \n",
      "A value is trying to be set on a copy of a slice from a DataFrame.\n",
      "Try using .loc[row_indexer,col_indexer] = value instead\n",
      "\n",
      "See the caveats in the documentation: https://pandas.pydata.org/pandas-docs/stable/user_guide/indexing.html#returning-a-view-versus-a-copy\n",
      "  Application_Clean_df3['Time_work'] = Application_Clean_df3['Time_Employed'].map(Time_Groups)\n"
     ]
    }
   ],
   "source": [
    "Application_Clean_df3['Time_work'] = Application_Clean_df3['Time_Employed'].map(Time_Groups)"
   ]
  },
  {
   "cell_type": "code",
   "execution_count": 57,
   "id": "3d09e73d",
   "metadata": {},
   "outputs": [
    {
     "data": {
      "text/plain": [
       "C    162399\n",
       "B    159935\n",
       "A    113689\n",
       "D     75802\n",
       "E     33963\n",
       "F     10009\n",
       "G      3309\n",
       "Name: Grade, dtype: int64"
      ]
     },
     "execution_count": 57,
     "metadata": {},
     "output_type": "execute_result"
    }
   ],
   "source": [
    "Application_Clean_df3['Grade'].value_counts()"
   ]
  },
  {
   "cell_type": "markdown",
   "id": "8717ff8b",
   "metadata": {},
   "source": [
    "There are 7 status of Loan applications: Charged Off,Current,Default,Fully Paid,In Grace Period,Late (16-30 days),Late (31-120 days). Beside that there are 7 credit grade levels: A, B, C, D, E, F, G. We will consider several criterias to adjust an application is booked or rejected.\n",
    "Loan Grade of applications are below C, the applications wuold be rejected. Loan with status of \"Charge off\" and \"Default\" would be rejected as well. And the the rest applications would be accepted."
   ]
  },
  {
   "cell_type": "code",
   "execution_count": 58,
   "id": "7b596d97",
   "metadata": {},
   "outputs": [],
   "source": [
    "Grade_below_C = ['D','E','F','G']\n",
    "Status_Rejected = ['Charged Off','Default']"
   ]
  },
  {
   "cell_type": "code",
   "execution_count": 59,
   "id": "4a8be5e5",
   "metadata": {},
   "outputs": [
    {
     "name": "stderr",
     "output_type": "stream",
     "text": [
      "C:\\Users\\hoain\\anaconda3\\lib\\site-packages\\pandas\\core\\indexing.py:1817: SettingWithCopyWarning: \n",
      "A value is trying to be set on a copy of a slice from a DataFrame.\n",
      "Try using .loc[row_indexer,col_indexer] = value instead\n",
      "\n",
      "See the caveats in the documentation: https://pandas.pydata.org/pandas-docs/stable/user_guide/indexing.html#returning-a-view-versus-a-copy\n",
      "  self._setitem_single_column(loc, value, pi)\n"
     ]
    }
   ],
   "source": [
    "Application_Clean_df3.loc[(Application_Clean_df3['Grade'].isin(Grade_below_C))|\n",
    "                         (Application_Clean_df3['Loan_Stat'].isin(Status_Rejected)),\n",
    "                          ['Response']] = 'Rejected'"
   ]
  },
  {
   "cell_type": "code",
   "execution_count": 60,
   "id": "ca525f7a",
   "metadata": {},
   "outputs": [],
   "source": [
    "Application_Clean_df3.loc[Application_Clean_df3['Response'].isnull(),['Response']] = 'Accepted'"
   ]
  },
  {
   "cell_type": "code",
   "execution_count": 61,
   "id": "ecf2d4d0",
   "metadata": {},
   "outputs": [
    {
     "data": {
      "text/plain": [
       "Accepted    398199\n",
       "Rejected    160907\n",
       "Name: Response, dtype: int64"
      ]
     },
     "execution_count": 61,
     "metadata": {},
     "output_type": "execute_result"
    }
   ],
   "source": [
    "Application_Clean_df3['Response'].value_counts()"
   ]
  },
  {
   "cell_type": "code",
   "execution_count": 62,
   "id": "4316773a",
   "metadata": {},
   "outputs": [
    {
     "data": {
      "text/html": [
       "<div>\n",
       "<style scoped>\n",
       "    .dataframe tbody tr th:only-of-type {\n",
       "        vertical-align: middle;\n",
       "    }\n",
       "\n",
       "    .dataframe tbody tr th {\n",
       "        vertical-align: top;\n",
       "    }\n",
       "\n",
       "    .dataframe thead th {\n",
       "        text-align: right;\n",
       "    }\n",
       "</style>\n",
       "<table border=\"1\" class=\"dataframe\">\n",
       "  <thead>\n",
       "    <tr style=\"text-align: right;\">\n",
       "      <th></th>\n",
       "      <th>Loan_Num</th>\n",
       "      <th>Loan_Stat</th>\n",
       "      <th>Loan_Amt</th>\n",
       "      <th>Time_Employed</th>\n",
       "      <th>State</th>\n",
       "      <th>Cred_Score</th>\n",
       "      <th>Grade</th>\n",
       "      <th>Response</th>\n",
       "      <th>Region</th>\n",
       "      <th>Time_work</th>\n",
       "    </tr>\n",
       "  </thead>\n",
       "  <tbody>\n",
       "    <tr>\n",
       "      <th>0</th>\n",
       "      <td>68355089</td>\n",
       "      <td>Fully Paid</td>\n",
       "      <td>24700.0</td>\n",
       "      <td>10+ years</td>\n",
       "      <td>SD</td>\n",
       "      <td>719.0</td>\n",
       "      <td>C</td>\n",
       "      <td>Accepted</td>\n",
       "      <td>Midwest</td>\n",
       "      <td>above 10 years</td>\n",
       "    </tr>\n",
       "    <tr>\n",
       "      <th>1</th>\n",
       "      <td>68426831</td>\n",
       "      <td>Fully Paid</td>\n",
       "      <td>11950.0</td>\n",
       "      <td>4 years</td>\n",
       "      <td>GA</td>\n",
       "      <td>694.0</td>\n",
       "      <td>C</td>\n",
       "      <td>Accepted</td>\n",
       "      <td>Southeast</td>\n",
       "      <td>3-5 years</td>\n",
       "    </tr>\n",
       "    <tr>\n",
       "      <th>2</th>\n",
       "      <td>67275481</td>\n",
       "      <td>Fully Paid</td>\n",
       "      <td>20000.0</td>\n",
       "      <td>10+ years</td>\n",
       "      <td>SC</td>\n",
       "      <td>709.0</td>\n",
       "      <td>B</td>\n",
       "      <td>Accepted</td>\n",
       "      <td>Southeast</td>\n",
       "      <td>above 10 years</td>\n",
       "    </tr>\n",
       "    <tr>\n",
       "      <th>3</th>\n",
       "      <td>68616873</td>\n",
       "      <td>Fully Paid</td>\n",
       "      <td>8000.0</td>\n",
       "      <td>10+ years</td>\n",
       "      <td>RI</td>\n",
       "      <td>704.0</td>\n",
       "      <td>B</td>\n",
       "      <td>Accepted</td>\n",
       "      <td>Northeast</td>\n",
       "      <td>above 10 years</td>\n",
       "    </tr>\n",
       "    <tr>\n",
       "      <th>4</th>\n",
       "      <td>68356421</td>\n",
       "      <td>Current</td>\n",
       "      <td>22400.0</td>\n",
       "      <td>6 years</td>\n",
       "      <td>SC</td>\n",
       "      <td>714.0</td>\n",
       "      <td>C</td>\n",
       "      <td>Accepted</td>\n",
       "      <td>Southeast</td>\n",
       "      <td>6-10 years</td>\n",
       "    </tr>\n",
       "  </tbody>\n",
       "</table>\n",
       "</div>"
      ],
      "text/plain": [
       "   Loan_Num   Loan_Stat  Loan_Amt Time_Employed State  Cred_Score Grade  \\\n",
       "0  68355089  Fully Paid   24700.0     10+ years    SD       719.0     C   \n",
       "1  68426831  Fully Paid   11950.0       4 years    GA       694.0     C   \n",
       "2  67275481  Fully Paid   20000.0     10+ years    SC       709.0     B   \n",
       "3  68616873  Fully Paid    8000.0     10+ years    RI       704.0     B   \n",
       "4  68356421     Current   22400.0       6 years    SC       714.0     C   \n",
       "\n",
       "   Response     Region       Time_work  \n",
       "0  Accepted    Midwest  above 10 years  \n",
       "1  Accepted  Southeast       3-5 years  \n",
       "2  Accepted  Southeast  above 10 years  \n",
       "3  Accepted  Northeast  above 10 years  \n",
       "4  Accepted  Southeast      6-10 years  "
      ]
     },
     "execution_count": 62,
     "metadata": {},
     "output_type": "execute_result"
    }
   ],
   "source": [
    "Application_Clean_df3.head()"
   ]
  },
  {
   "cell_type": "code",
   "execution_count": 63,
   "id": "1087d8df",
   "metadata": {},
   "outputs": [],
   "source": [
    "from pandas_profiling import ProfileReport\n",
    "profile = ProfileReport(Application_Clean_df3, explorative=True,)"
   ]
  },
  {
   "cell_type": "code",
   "execution_count": 64,
   "id": "b4e7844a",
   "metadata": {},
   "outputs": [
    {
     "data": {
      "application/vnd.jupyter.widget-view+json": {
       "model_id": "fe6d7b27f5bc4859831dd86cc04ad2d8",
       "version_major": 2,
       "version_minor": 0
      },
      "text/plain": [
       "Summarize dataset:   0%|          | 0/24 [00:00<?, ?it/s]"
      ]
     },
     "metadata": {},
     "output_type": "display_data"
    },
    {
     "data": {
      "application/vnd.jupyter.widget-view+json": {
       "model_id": "065440b73ec848aebf4f7750589658c0",
       "version_major": 2,
       "version_minor": 0
      },
      "text/plain": [
       "Generate report structure:   0%|          | 0/1 [00:00<?, ?it/s]"
      ]
     },
     "metadata": {},
     "output_type": "display_data"
    },
    {
     "data": {
      "application/vnd.jupyter.widget-view+json": {
       "model_id": "692fc9fe40c24bc48ca2a5d222457592",
       "version_major": 2,
       "version_minor": 0
      },
      "text/plain": [
       "Render HTML:   0%|          | 0/1 [00:00<?, ?it/s]"
      ]
     },
     "metadata": {},
     "output_type": "display_data"
    },
    {
     "data": {
      "application/vnd.jupyter.widget-view+json": {
       "model_id": "b2e8f25542c849ed976ac51179ca4ac2",
       "version_major": 2,
       "version_minor": 0
      },
      "text/plain": [
       "Export report to file:   0%|          | 0/1 [00:00<?, ?it/s]"
      ]
     },
     "metadata": {},
     "output_type": "display_data"
    }
   ],
   "source": [
    "profile.to_file('application.html')"
   ]
  },
  {
   "cell_type": "code",
   "execution_count": 47,
   "id": "3fd02958",
   "metadata": {},
   "outputs": [],
   "source": [
    "Application_Clean_df3.to_csv('Cleaned_Application_Data.csv', index=)"
   ]
  },
  {
   "cell_type": "code",
   "execution_count": null,
   "id": "45035efc",
   "metadata": {},
   "outputs": [],
   "source": []
  }
 ],
 "metadata": {
  "kernelspec": {
   "display_name": "Python 3 (ipykernel)",
   "language": "python",
   "name": "python3"
  },
  "language_info": {
   "codemirror_mode": {
    "name": "ipython",
    "version": 3
   },
   "file_extension": ".py",
   "mimetype": "text/x-python",
   "name": "python",
   "nbconvert_exporter": "python",
   "pygments_lexer": "ipython3",
   "version": "3.8.5"
  }
 },
 "nbformat": 4,
 "nbformat_minor": 5
}
